{
 "cells": [
  {
   "cell_type": "markdown",
   "metadata": {
    "deletable": false,
    "editable": false,
    "nbgrader": {
     "cell_type": "markdown",
     "checksum": "c91795829f5251d422a0dbea1e267982",
     "grade": false,
     "grade_id": "cell-e0b3c17a857f93d4",
     "locked": true,
     "schema_version": 3,
     "solution": false
    }
   },
   "source": [
    "### Required Assignment 6.1: Analyzing results of PCA, Plotting values and Adjusting Parameters for Variance\n",
    "\n",
    "**Expected Time: 120 Minutes**\n",
    "\n",
    "**Total Points: 28**\n",
    "\n",
    "This activity explores principal component analysis through two examples -- image data and tabular data. These examples are meant to demonstrate how PCA extracts important information from the data while reducing its dimensionality. Next, you will build a scree plot with Python. A scree plot can be used to determine how many Principal Components to keep in a given dataset.  Using a `sklearn` built-in housing dataset, you will plot the values of $\\Sigma$ in decreasing order -- this is a scree plot.  For more on-scree plots see [here](https://en.wikipedia.org/wiki/Scree_plot#:~:text=In%20multivariate%20statistics%2C%20a%20scree,principal%20component%20analysis%20(PCA).). In the last part of this activity, you will determine how many components are required to explain a proportion of variance.  \n",
    "### Index:\n",
    "\n",
    "- [Problem 1](#Problem-1)\n",
    "- [Problem 2](#Problem-2)\n",
    "- [Problem 3](#Problem-3)\n",
    "- [Problem 4](#Problem-4)\n",
    "- [Problem 5](#Problem-5)\n",
    "- [Problem 6](#Problem-6)\n",
    "- [Problem 7](#Problem-7)\n",
    "- [Problem 8](#Problem-8)\n",
    "- [Problem 9](#Problem-9)\n",
    "- [Problem 10](#Problem-10)"
   ]
  },
  {
   "cell_type": "code",
   "execution_count": 1,
   "metadata": {},
   "outputs": [],
   "source": [
    "from scipy.linalg import svd\n",
    "import numpy as np\n",
    "import pandas as pd\n",
    "import matplotlib.pyplot as plt\n",
    "import seaborn as sns\n",
    "from sklearn.datasets import fetch_olivetti_faces, fetch_california_housing\n",
    "from sklearn.datasets import make_regression\n",
    "from sklearn.datasets import fetch_openml"
   ]
  },
  {
   "cell_type": "markdown",
   "metadata": {
    "deletable": false,
    "editable": false,
    "nbgrader": {
     "cell_type": "markdown",
     "checksum": "6bf4aa4dba6d02dc2798da82bacd0684",
     "grade": false,
     "grade_id": "cell-f6552400b55a1bca",
     "locked": true,
     "schema_version": 3,
     "solution": false
    }
   },
   "source": [
    "#### The Datasets\n",
    "\n",
    "Both datasets are built into the `sklearn` library.  The first is a familiar set of faces, such as 1-Dimensional Arrays, and the second is a dataset on housing prices in Californian neighborhoods.  The image data is limited to a single image and assigned to the variable `image` below.  The housing data is displayed as a DataFrame with the `.frame` attribute after setting `as_frame = True`.  "
   ]
  },
  {
   "cell_type": "code",
   "execution_count": 2,
   "metadata": {},
   "outputs": [],
   "source": [
    "faces_data = pd.read_csv('data/faces.csv')\n",
    "cali_housing = fetch_california_housing(return_X_y=False, as_frame=True, data_home='data')"
   ]
  },
  {
   "cell_type": "code",
   "execution_count": 3,
   "metadata": {},
   "outputs": [
    {
     "data": {
      "text/plain": [
       "<matplotlib.image.AxesImage at 0x7f4edcd1ecc0>"
      ]
     },
     "execution_count": 3,
     "metadata": {},
     "output_type": "execute_result"
    },
    {
     "data": {
      "image/png": "[encoded data removed]",
      "text/plain": [
       "<Figure size 640x480 with 1 Axes>"
      ]
     },
     "metadata": {},
     "output_type": "display_data"
    }
   ],
   "source": [
    "image = faces_data.iloc[4].values.reshape(64, 64)\n",
    "plt.imshow(image)"
   ]
  },
  {
   "cell_type": "code",
   "execution_count": 4,
   "metadata": {},
   "outputs": [
    {
     "data": {
      "text/html": [
       "<div>\n",
       "<style scoped>\n",
       "    .dataframe tbody tr th:only-of-type {\n",
       "        vertical-align: middle;\n",
       "    }\n",
       "\n",
       "    .dataframe tbody tr th {\n",
       "        vertical-align: top;\n",
       "    }\n",
       "\n",
       "    .dataframe thead th {\n",
       "        text-align: right;\n",
       "    }\n",
       "</style>\n",
       "<table border=\"1\" class=\"dataframe\">\n",
       "  <thead>\n",
       "    <tr style=\"text-align: right;\">\n",
       "      <th></th>\n",
       "      <th>MedInc</th>\n",
       "      <th>HouseAge</th>\n",
       "      <th>AveRooms</th>\n",
       "      <th>AveBedrms</th>\n",
       "      <th>Population</th>\n",
       "      <th>AveOccup</th>\n",
       "      <th>Latitude</th>\n",
       "      <th>Longitude</th>\n",
       "      <th>MedHouseVal</th>\n",
       "    </tr>\n",
       "  </thead>\n",
       "  <tbody>\n",
       "    <tr>\n",
       "      <th>0</th>\n",
       "      <td>8.3252</td>\n",
       "      <td>41.0</td>\n",
       "      <td>6.984127</td>\n",
       "      <td>1.023810</td>\n",
       "      <td>322.0</td>\n",
       "      <td>2.555556</td>\n",
       "      <td>37.88</td>\n",
       "      <td>-122.23</td>\n",
       "      <td>4.526</td>\n",
       "    </tr>\n",
       "    <tr>\n",
       "      <th>1</th>\n",
       "      <td>8.3014</td>\n",
       "      <td>21.0</td>\n",
       "      <td>6.238137</td>\n",
       "      <td>0.971880</td>\n",
       "      <td>2401.0</td>\n",
       "      <td>2.109842</td>\n",
       "      <td>37.86</td>\n",
       "      <td>-122.22</td>\n",
       "      <td>3.585</td>\n",
       "    </tr>\n",
       "    <tr>\n",
       "      <th>2</th>\n",
       "      <td>7.2574</td>\n",
       "      <td>52.0</td>\n",
       "      <td>8.288136</td>\n",
       "      <td>1.073446</td>\n",
       "      <td>496.0</td>\n",
       "      <td>2.802260</td>\n",
       "      <td>37.85</td>\n",
       "      <td>-122.24</td>\n",
       "      <td>3.521</td>\n",
       "    </tr>\n",
       "    <tr>\n",
       "      <th>3</th>\n",
       "      <td>5.6431</td>\n",
       "      <td>52.0</td>\n",
       "      <td>5.817352</td>\n",
       "      <td>1.073059</td>\n",
       "      <td>558.0</td>\n",
       "      <td>2.547945</td>\n",
       "      <td>37.85</td>\n",
       "      <td>-122.25</td>\n",
       "      <td>3.413</td>\n",
       "    </tr>\n",
       "    <tr>\n",
       "      <th>4</th>\n",
       "      <td>3.8462</td>\n",
       "      <td>52.0</td>\n",
       "      <td>6.281853</td>\n",
       "      <td>1.081081</td>\n",
       "      <td>565.0</td>\n",
       "      <td>2.181467</td>\n",
       "      <td>37.85</td>\n",
       "      <td>-122.25</td>\n",
       "      <td>3.422</td>\n",
       "    </tr>\n",
       "  </tbody>\n",
       "</table>\n",
       "</div>"
      ],
      "text/plain": [
       "   MedInc  HouseAge  AveRooms  AveBedrms  Population  AveOccup  Latitude  \\\n",
       "0  8.3252      41.0  6.984127   1.023810       322.0  2.555556     37.88   \n",
       "1  8.3014      21.0  6.238137   0.971880      2401.0  2.109842     37.86   \n",
       "2  7.2574      52.0  8.288136   1.073446       496.0  2.802260     37.85   \n",
       "3  5.6431      52.0  5.817352   1.073059       558.0  2.547945     37.85   \n",
       "4  3.8462      52.0  6.281853   1.081081       565.0  2.181467     37.85   \n",
       "\n",
       "   Longitude  MedHouseVal  \n",
       "0    -122.23        4.526  \n",
       "1    -122.22        3.585  \n",
       "2    -122.24        3.521  \n",
       "3    -122.25        3.413  \n",
       "4    -122.25        3.422  "
      ]
     },
     "execution_count": 4,
     "metadata": {},
     "output_type": "execute_result"
    }
   ],
   "source": [
    "df = cali_housing.frame.head(5)\n",
    "df.head()"
   ]
  },
  {
   "cell_type": "markdown",
   "metadata": {
    "deletable": false,
    "editable": false,
    "nbgrader": {
     "cell_type": "markdown",
     "checksum": "f1f91715baf69784b843afbb985c50bb",
     "grade": false,
     "grade_id": "cell-906e49a78f6736a2",
     "locked": true,
     "schema_version": 3,
     "solution": false
    }
   },
   "source": [
    "### Principal Component Analysis \n",
    "\n",
    "Recall the steps to perform Principal Component Analysis on an array.  \n",
    "\n",
    "```\n",
    "- standardize the data\n",
    "- perform SVD\n",
    "- select how many components to keep\n",
    "```\n",
    "\n",
    "From here, depending on the goal, you will either eliminate all but the top `r` values in $\\Sigma$ or evaluate the product of $U_r \\dot \\Sigma_r$."
   ]
  },
  {
   "cell_type": "markdown",
   "metadata": {
    "deletable": false,
    "editable": false,
    "nbgrader": {
     "cell_type": "markdown",
     "checksum": "75a24e81fed8bd98560be55f8963b4ec",
     "grade": false,
     "grade_id": "cell-205315a2dcec7500",
     "locked": true,
     "schema_version": 3,
     "solution": false
    }
   },
   "source": [
    "[Back to top](#Index:) \n",
    "\n",
    "## Problem 1\n",
    "\n",
    "### Function to Standardize and Factor\n",
    "\n",
    "**4 Points**\n",
    "\n",
    "Complete the function `svd_norm` according to the instructions below:\n",
    "\n",
    "- The function should take, as input, an array `X`.\n",
    "- The function should scale the array `X` using its mean and standard deviation and assign the result to ` x_norm`.\n",
    "- The function should use the `svd` function to factor `x_norm` using `full_matrices` equal to `False` and assign the result to `U`, `sigma`, and `VT`.\n",
    "- The function should use `np.diag()` to define a diagonal matrix with the singular values on the main diagonal and assign the result to `Sigma`.\n",
    "- The function should return three arrays `U`, `Sigma` and `VT`.\n"
   ]
  },
  {
   "cell_type": "code",
   "execution_count": 5,
   "metadata": {
    "deletable": false,
    "nbgrader": {
     "cell_type": "code",
     "checksum": "55ba097be66b6afdef0117d93c8f1b3d",
     "grade": false,
     "grade_id": "cell-77894dc5610f83dc",
     "locked": false,
     "schema_version": 3,
     "solution": true
    }
   },
   "outputs": [
    {
     "name": "stdout",
     "output_type": "stream",
     "text": [
      "(10, 8) (8, 8) (8, 8)\n"
     ]
    }
   ],
   "source": [
    "### GRADED\n",
    "\n",
    "def svd_norm(X):\n",
    "    \"\"\"This function takes in an array X, scales it according \n",
    "    to the transformation X - mu / sigma where mu is the mean\n",
    "    and sigma the standard deviation of the dataset.\n",
    "\n",
    "    Parameters\n",
    "    ----------\n",
    "    X: type `np.array`, shape (N, M)\n",
    "        \n",
    "    Returns\n",
    "    -------\n",
    "    A tuple (U, Sigma, VT) where\n",
    "        U: type `np.ndarray`, shape (N, M)\n",
    "            Numpy arrays with N rows, M columns \n",
    "        Sigma: type `np.ndarray`, shape (M, M)\n",
    "            Numpy arrays with M rows and M columns\n",
    "            A Diagonal matrix with the singular values on main diagonal\n",
    "        VT: type `np.ndarray`, shape (M, M)\n",
    "            Numpy array with M rows and M columns representing V Transpose\n",
    "    \"\"\"\n",
    "    # Calculate the mean and standard deviation of the input array X\n",
    "    mu = np.mean(X)\n",
    "    sigma = np.std(X)\n",
    "    \n",
    "    # Scale the array X\n",
    "    x_norm = (X - mu) / sigma\n",
    "    \n",
    "    # Perform SVD on the scaled array\n",
    "    U, sigma_1d, VT = np.linalg.svd(x_norm, full_matrices=False)\n",
    "    \n",
    "    # Create a diagonal matrix from the singular values\n",
    "    Sigma = np.diag(sigma_1d)\n",
    "    \n",
    "    return U, Sigma, VT\n",
    "\n",
    "\n",
    "# YOUR CODE HERE\n",
    "image = np.random.rand(10, 8) \n",
    "\n",
    "# Answer check\n",
    "U, Sigma, VT = svd_norm(image)\n",
    "print(U.shape, Sigma.shape, VT.shape)"
   ]
  },
  {
   "cell_type": "code",
   "execution_count": null,
   "metadata": {
    "deletable": false,
    "editable": false,
    "nbgrader": {
     "cell_type": "code",
     "checksum": "a5ed8a8453b9c12706be3a2825fc1c6d",
     "grade": true,
     "grade_id": "cell-d7dda51e78f7e1b8",
     "locked": true,
     "points": 4,
     "schema_version": 3,
     "solution": false
    }
   },
   "outputs": [],
   "source": []
  },
  {
   "cell_type": "markdown",
   "metadata": {
    "deletable": false,
    "editable": false,
    "nbgrader": {
     "cell_type": "markdown",
     "checksum": "8da8e344c9407bf8b6e87ec625b8ce1b",
     "grade": false,
     "grade_id": "cell-bd006023ea1b758f",
     "locked": true,
     "schema_version": 3,
     "solution": false
    }
   },
   "source": [
    "[Back to top](#Index:) \n",
    "\n",
    "## Problem 2\n",
    "\n",
    "### Reconstructing the Image\n",
    "\n",
    "**4 Points**\n",
    "\n",
    "To complete this problem, follow the instructions below:\n",
    "\n",
    "- Apply the `svd_norm` function you defined in Problem 1 to `image` and assign the result to `U`, `Sigma`, and `VT`.\n",
    "- Use the `np.copy` function with argument `Sigma` to make a copy of the $\\Sigma$ matrix and assign  the result to `Sigma_copy`.\n",
    "- Set all but the first 5 singular values of `Sigma_copy` (first 25 values - 5x5 matrix) to zero.\n",
    "-  Reconstruct the original image by multiplying $U \\Sigma_{copy} VT$ with the `@` operator and assign the result to `simpler_image`. \n",
    "\n",
    "Note how much information from the image is captured in the first five singular values!"
   ]
  },
  {
   "cell_type": "code",
   "execution_count": 6,
   "metadata": {
    "deletable": false,
    "nbgrader": {
     "cell_type": "code",
     "checksum": "314c9aeaaf40e1432a4e75b32fb5fb34",
     "grade": false,
     "grade_id": "cell-6a3a77ccaf4e8a5f",
     "locked": false,
     "schema_version": 3,
     "solution": true
    }
   },
   "outputs": [
    {
     "name": "stdout",
     "output_type": "stream",
     "text": [
      "(10, 8)\n"
     ]
    },
    {
     "data": {
      "image/png": "[encoded data removed]",
      "text/plain": [
       "<Figure size 640x480 with 1 Axes>"
      ]
     },
     "metadata": {},
     "output_type": "display_data"
    }
   ],
   "source": [
    "### GRADED\n",
    "\n",
    "Sigma_copy = None\n",
    "simpler_image = None\n",
    "\n",
    "# YOUR CODE HERE\n",
    "# Use np.copy to create a copy of Sigma\n",
    "Sigma_copy = np.copy(Sigma)\n",
    "\n",
    "# Set all but the first 5 singular values to zero\n",
    "Sigma_copy[5:, 5:] = 0\n",
    "\n",
    "# Reconstruct the original image using the modified Sigma matrix\n",
    "simpler_image = U @ Sigma_copy @ VT\n",
    "\n",
    "# Answer check\n",
    "print(simpler_image.shape)\n",
    "plt.imshow(simpler_image)\n",
    "plt.title('Image Reconstructed from first 5 Singular Values');"
   ]
  },
  {
   "cell_type": "code",
   "execution_count": null,
   "metadata": {
    "deletable": false,
    "editable": false,
    "nbgrader": {
     "cell_type": "code",
     "checksum": "499fd3d24e08af7e07b1fd730f115499",
     "grade": true,
     "grade_id": "cell-67ba50a3b8f68ff3",
     "locked": true,
     "points": 4,
     "schema_version": 3,
     "solution": false
    }
   },
   "outputs": [],
   "source": []
  },
  {
   "cell_type": "markdown",
   "metadata": {
    "deletable": false,
    "editable": false,
    "nbgrader": {
     "cell_type": "markdown",
     "checksum": "86b3f4b91bd49699c4d4e4275ecb3afc",
     "grade": false,
     "grade_id": "cell-a1b010d028824a83",
     "locked": true,
     "schema_version": 3,
     "solution": false
    }
   },
   "source": [
    "[Back to top](#Index:) \n",
    "\n",
    "## Problem 3\n",
    "\n",
    "### Repeat for Tabular Data\n",
    "\n",
    "**4 Points**\n",
    "\n",
    "As the example above demonstrates, using Principal Component Analysis is a way of extracting important information from the data through the SVD.  Now, you are to extract the matrix factorization from the SVD using the housing data `df`.  The earlier `svd_norm` function should work to factor a DataFrame.  Use your function to extract $U, \\Sigma, VT$ from the DataFrame.  Assign your results to `U, Sigma, VT` below."
   ]
  },
  {
   "cell_type": "code",
   "execution_count": 20,
   "metadata": {
    "deletable": false,
    "nbgrader": {
     "cell_type": "code",
     "checksum": "00ce2810ac8e3ac3d422238429bf1998",
     "grade": false,
     "grade_id": "cell-7ba0ca851edf60e7",
     "locked": false,
     "schema_version": 3,
     "solution": true
    }
   },
   "outputs": [
    {
     "name": "stdout",
     "output_type": "stream",
     "text": [
      "<class 'numpy.ndarray'>\n",
      "(20640, 9) (9, 9)\n"
     ]
    }
   ],
   "source": [
    "### GRADED\n",
    "\n",
    "U, Sigma, VT = None, None, None\n",
    "\n",
    "# YOUR CODE HERE\n",
    "# Load the housing dataset\n",
    "housing = fetch_california_housing()\n",
    "df = cali_housing.frame\n",
    "\n",
    "# Convert the DataFrame to a NumPy array before applying the function\n",
    "df_np = df.values\n",
    "\n",
    "# Apply the svd_norm function to the NumPy array of the housing data\n",
    "U, Sigma, VT = svd_norm(df_np)\n",
    "\n",
    "# Answer check\n",
    "print(type(U))\n",
    "print(df.shape, Sigma.shape)"
   ]
  },
  {
   "cell_type": "code",
   "execution_count": null,
   "metadata": {
    "deletable": false,
    "editable": false,
    "nbgrader": {
     "cell_type": "code",
     "checksum": "ce7ab6802192eef23eac6163820f60e7",
     "grade": true,
     "grade_id": "cell-5288af8314b484bd",
     "locked": true,
     "points": 4,
     "schema_version": 3,
     "solution": false
    }
   },
   "outputs": [],
   "source": []
  },
  {
   "cell_type": "markdown",
   "metadata": {
    "deletable": false,
    "editable": false,
    "nbgrader": {
     "cell_type": "markdown",
     "checksum": "1d79f655165cd46c053f9190ad1a5d78",
     "grade": false,
     "grade_id": "cell-af6be89a05cb3f33",
     "locked": true,
     "schema_version": 3,
     "solution": false
    }
   },
   "source": [
    "[Back to top](#Index:) \n",
    "\n",
    "## Problem 4\n",
    "\n",
    "## Function to project into lower dimension `r`\n",
    "\n",
    "**4 Points**\n",
    "\n",
    "Complete the function `pca` below according to the instructions below:\n",
    "\n",
    "- The function takes two arguments, `X` and `r` where `X` is an array or DataFrame and `r` is a dimension to project the data down into.\n",
    "- The function should scale the array `X` using its mean and standard deviation and assign the result to ` x_norm`.\n",
    "- The function should use the `svd` function to factor `x_norm` using `full_matrices` equal to `False` and assign the result to `U`, `sigma`, and `VT`.\n",
    "- The function should use `np.diag()` to define a diagonal matrix with the singular values on the main diagonal anfd assign the result to `Sigma`.\n",
    "- The function should extract all the rows and the first `r` columns of `U` and assign the result to `Ur`.\n",
    "- The function should extract the first `r` rows and columns of `Sigma` and assign the result to `Sigma_r`.\n",
    "- The function should returns a DataFrame of shape `(N, r)` with columns labeled `pca_1`, `pca_2`, ..., `pca_r`. To achieve this use the code `pd.DataFrame(Ur @ Sigma_r, columns = [f'pca_{i}' for i in range(1, r + 1)])`\n",
    "\n"
   ]
  },
  {
   "cell_type": "code",
   "execution_count": 21,
   "metadata": {
    "deletable": false,
    "nbgrader": {
     "cell_type": "code",
     "checksum": "06cc2f68929f8b8278d89c0d0146c1d8",
     "grade": false,
     "grade_id": "cell-fa59725d77f1610c",
     "locked": false,
     "schema_version": 3,
     "solution": true
    }
   },
   "outputs": [
    {
     "name": "stdout",
     "output_type": "stream",
     "text": [
      "(20640, 2)\n"
     ]
    },
    {
     "data": {
      "text/html": [
       "<div>\n",
       "<style scoped>\n",
       "    .dataframe tbody tr th:only-of-type {\n",
       "        vertical-align: middle;\n",
       "    }\n",
       "\n",
       "    .dataframe tbody tr th {\n",
       "        vertical-align: top;\n",
       "    }\n",
       "\n",
       "    .dataframe thead th {\n",
       "        text-align: right;\n",
       "    }\n",
       "</style>\n",
       "<table border=\"1\" class=\"dataframe\">\n",
       "  <thead>\n",
       "    <tr style=\"text-align: right;\">\n",
       "      <th></th>\n",
       "      <th>pca_1</th>\n",
       "      <th>pca_2</th>\n",
       "    </tr>\n",
       "  </thead>\n",
       "  <tbody>\n",
       "    <tr>\n",
       "      <th>0</th>\n",
       "      <td>-2.346543</td>\n",
       "      <td>-0.346441</td>\n",
       "    </tr>\n",
       "    <tr>\n",
       "      <th>1</th>\n",
       "      <td>-1.761367</td>\n",
       "      <td>-0.438124</td>\n",
       "    </tr>\n",
       "    <tr>\n",
       "      <th>2</th>\n",
       "      <td>-2.330312</td>\n",
       "      <td>0.126208</td>\n",
       "    </tr>\n",
       "    <tr>\n",
       "      <th>3</th>\n",
       "      <td>-1.537078</td>\n",
       "      <td>0.810004</td>\n",
       "    </tr>\n",
       "    <tr>\n",
       "      <th>4</th>\n",
       "      <td>-1.416914</td>\n",
       "      <td>1.121116</td>\n",
       "    </tr>\n",
       "  </tbody>\n",
       "</table>\n",
       "</div>"
      ],
      "text/plain": [
       "      pca_1     pca_2\n",
       "0 -2.346543 -0.346441\n",
       "1 -1.761367 -0.438124\n",
       "2 -2.330312  0.126208\n",
       "3 -1.537078  0.810004\n",
       "4 -1.416914  1.121116"
      ]
     },
     "execution_count": 21,
     "metadata": {},
     "output_type": "execute_result"
    }
   ],
   "source": [
    "### GRADED\n",
    "\n",
    "def pca(X, r = 5):\n",
    "    \"\"\"This function takes in an array X, and extracts\n",
    "    r principal components.  These are returned in a DataFrame.\n",
    "\n",
    "    Parameters\n",
    "    ----------\n",
    "    X: type `np.array`, shape (N, M)\n",
    "    r: type `int`\n",
    "        \n",
    "    Returns\n",
    "    -------\n",
    "    A DataFrame of shape (N, r) with columns labeled\n",
    "    pca_1. | pca_2 | .... | pca_r |\n",
    "    \n",
    "    \"\"\"\n",
    "    if isinstance(X, pd.DataFrame):\n",
    "        X = X.values\n",
    "        \n",
    "    # Scale the array X using its mean and standard deviation\n",
    "    x_norm = (X - np.mean(X, axis=0)) / np.std(X, axis=0)\n",
    "    \n",
    "    # Use svd to factor x_norm\n",
    "    U, sigma, VT = np.linalg.svd(x_norm, full_matrices=False)\n",
    "    \n",
    "    # Use np.diag() to define a diagonal matrix with the singular values\n",
    "    Sigma = np.diag(sigma)\n",
    "    \n",
    "    # Extract the first r columns of U\n",
    "    Ur = U[:, :r]\n",
    "    \n",
    "    # Extract the first r rows and columns of Sigma\n",
    "    Sigma_r = Sigma[:r, :r]\n",
    "    \n",
    "    # Return a DataFrame with the principal components\n",
    "    return pd.DataFrame(Ur @ Sigma_r, columns=[f'pca_{i}' for i in range(1, r + 1)])\n",
    "\n",
    "\n",
    "# YOUR CODE HERE\n",
    "\n",
    "# Answer check\n",
    "XT = pca(df, r = 2)\n",
    "print(XT.shape)\n",
    "XT.head()"
   ]
  },
  {
   "cell_type": "code",
   "execution_count": null,
   "metadata": {
    "deletable": false,
    "editable": false,
    "nbgrader": {
     "cell_type": "code",
     "checksum": "aae4568fdee3af327a904291fa59b5ec",
     "grade": true,
     "grade_id": "cell-d805d76576ab447b",
     "locked": true,
     "points": 4,
     "schema_version": 3,
     "solution": false
    }
   },
   "outputs": [],
   "source": []
  },
  {
   "cell_type": "markdown",
   "metadata": {
    "deletable": false,
    "editable": false,
    "nbgrader": {
     "cell_type": "markdown",
     "checksum": "726cba80fa363e5497d3696cfbdea8e2",
     "grade": false,
     "grade_id": "cell-f45c0dac211998fc",
     "locked": true,
     "schema_version": 3,
     "solution": false
    }
   },
   "source": [
    "These examples offer insight into how PCA can reduce the dimensionality of your data while keeping important information about underlying relationships intact.  "
   ]
  },
  {
   "cell_type": "markdown",
   "metadata": {
    "deletable": false,
    "editable": false,
    "nbgrader": {
     "cell_type": "markdown",
     "checksum": "7986b6e5edb6690bef82d7874f3cc749",
     "grade": false,
     "grade_id": "cell-cc571865460a35f6",
     "locked": true,
     "schema_version": 3,
     "solution": false
    }
   },
   "source": [
    "[Back to top](#Index:) \n",
    "\n",
    "## Problem 5\n",
    "\n",
    "### Extracting $\\Sigma$\n",
    "\n",
    "**2 Points**\n",
    "\n",
    "Complete the function `singular_values` according to the instructions below:\n",
    "\n",
    "- The function takes, as input, an aray `X`, and a booloean flag `scale`, describing whether you want to scale the array `X` or not.\n",
    "- Using an `if` statement, check if `scale` is `True`. If it is, scale `X` using its mean and standard deviation.\n",
    "- If `scale` is not `True`, use the `svd` function to factor `X` into  `u`, `sigma`, and `vt`.\n",
    "- The function should return the numpy array of singular values of X, `sigma`."
   ]
  },
  {
   "cell_type": "code",
   "execution_count": 22,
   "metadata": {
    "deletable": false,
    "nbgrader": {
     "cell_type": "code",
     "checksum": "f9dbcb462688211f1579b89c508db71e",
     "grade": false,
     "grade_id": "cell-369c346ea0969ca2",
     "locked": false,
     "schema_version": 3,
     "solution": true
    }
   },
   "outputs": [
    {
     "name": "stdout",
     "output_type": "stream",
     "text": [
      "<class 'numpy.ndarray'>\n",
      "(9,)\n"
     ]
    }
   ],
   "source": [
    "### GRADED\n",
    "\n",
    "def singular_values(X, scale = False):\n",
    "    \"\"\"Return the singular values resulting from \n",
    "    SVD decomposition.  \n",
    "\n",
    "    Parameters\n",
    "    ----------\n",
    "    X: np.array or pd.DataFrame\n",
    "        An array of data\n",
    "    scale: boolean\n",
    "        Boolean determines whether data needs to be scaled\n",
    "\n",
    "    Returns an numpy array of singular values of X\n",
    "    \"\"\"\n",
    "    # YOUR CODE HERE \n",
    "    # Convert DataFrame to numpy array if necessary\n",
    "    if isinstance(X, pd.DataFrame):\n",
    "        X = X.values\n",
    "\n",
    "    # Check if scaling is required\n",
    "    if scale:\n",
    "        mu = np.mean(X)\n",
    "        sigma = np.std(X)\n",
    "        X_processed = (X - mu) / sigma\n",
    "    else:\n",
    "        X_processed = X\n",
    "        \n",
    "    # Perform SVD and extract singular values\n",
    "    sigma = np.linalg.svd(X_processed, compute_uv=False)\n",
    "    \n",
    "    return sigma\n",
    "\n",
    "# YOUR CODE HERE\n",
    "\n",
    "# Answer check\n",
    "print(type(singular_values(df)))\n",
    "sigma = singular_values(df)\n",
    "print(sigma.shape)"
   ]
  },
  {
   "cell_type": "code",
   "execution_count": null,
   "metadata": {
    "deletable": false,
    "editable": false,
    "nbgrader": {
     "cell_type": "code",
     "checksum": "536b719aec37f2d6a9283754ddb9ee14",
     "grade": true,
     "grade_id": "cell-6d9f2a43ad624400",
     "locked": true,
     "points": 2,
     "schema_version": 3,
     "solution": false
    }
   },
   "outputs": [],
   "source": []
  },
  {
   "cell_type": "markdown",
   "metadata": {
    "deletable": false,
    "editable": false,
    "nbgrader": {
     "cell_type": "markdown",
     "checksum": "133c04e6ca4884c267d77995b325df51",
     "grade": false,
     "grade_id": "cell-390ed29ac5ca0819",
     "locked": true,
     "schema_version": 3,
     "solution": false
    }
   },
   "source": [
    "[Back to top](#Index:) \n",
    "\n",
    "## Problem 6\n",
    "\n",
    "### Plotting $\\Sigma$\n",
    "\n",
    "**1 Points**\n",
    "\n",
    "Using the function above, build a plot of the singular values. Use your plot to determine how many principal components you should keep from the DataFrame `df`.  Assign your solution as an integer to `ans2` below."
   ]
  },
  {
   "cell_type": "code",
   "execution_count": 23,
   "metadata": {
    "deletable": false,
    "nbgrader": {
     "cell_type": "code",
     "checksum": "33732d79a1b558537bae7664f8db2757",
     "grade": false,
     "grade_id": "cell-9adf084183a78c6c",
     "locked": false,
     "schema_version": 3,
     "solution": true
    }
   },
   "outputs": [
    {
     "data": {
      "image/png": "[encoded data removed]",
      "text/plain": [
       "<Figure size 1000x600 with 1 Axes>"
      ]
     },
     "metadata": {},
     "output_type": "display_data"
    }
   ],
   "source": [
    "### GRADED\n",
    "\n",
    "#plot of singular values here\n",
    "sigma_scaled = singular_values(df, scale=True)\n",
    "plt.figure(figsize=(10, 6))\n",
    "plt.plot(np.arange(1, len(sigma_scaled) + 1), sigma_scaled, marker='o')\n",
    "plt.title('Scree Plot of Singular Values')\n",
    "plt.xlabel('Principal Component Index')\n",
    "plt.ylabel('Singular Value')\n",
    "plt.grid(True)\n",
    "plt.show()\n",
    "\n",
    "# Based on the plot, we are looking for the \"elbow\" where the curve flattens out.\n",
    "# This indicates the point at which subsequent principal components contribute\n",
    "# significantly less variance explained. Looking at the plot, there is a clear\n",
    "# elbow after the first two singular values, with a noticeable drop-off in magnitude.\n",
    "# The curve then flattens out significantly. Therefore, keeping the first\n",
    "# two principal components appears to be a reasonable choice.\n",
    "\n",
    "#how many components should you keep?\n",
    "ans2 = 2\n"
   ]
  },
  {
   "cell_type": "code",
   "execution_count": null,
   "metadata": {
    "deletable": false,
    "editable": false,
    "nbgrader": {
     "cell_type": "code",
     "checksum": "5332b4ece397279a4c28c08516cbbe78",
     "grade": true,
     "grade_id": "cell-e01cb96357eef464",
     "locked": true,
     "points": 1,
     "schema_version": 3,
     "solution": false
    }
   },
   "outputs": [],
   "source": []
  },
  {
   "cell_type": "markdown",
   "metadata": {
    "deletable": false,
    "editable": false,
    "nbgrader": {
     "cell_type": "markdown",
     "checksum": "c9b3576bf898bd305ec19d6c9a5a65b1",
     "grade": false,
     "grade_id": "cell-314f09ac6e2c3d14",
     "locked": true,
     "schema_version": 3,
     "solution": false
    }
   },
   "source": [
    "Depending on the dataset, we may have a different number of principal components to keep.  While not a hard fast statistical test, using a scree plot can provide some information on the appropriate number of values to keep.  "
   ]
  },
  {
   "cell_type": "markdown",
   "metadata": {
    "deletable": false,
    "editable": false,
    "nbgrader": {
     "cell_type": "markdown",
     "checksum": "b88d665be7b33642890a3e29b54a5b9e",
     "grade": false,
     "grade_id": "cell-fee8f16a5b7f8982",
     "locked": true,
     "schema_version": 3,
     "solution": false
    }
   },
   "source": [
    "In the last part of the assignment, you will use a dataset that is a larger example of a housing dataset related to individual houses and features in Ames Iowa.  For our purposes the non-null numeric data is selected. To import the data, run the code cells below:"
   ]
  },
  {
   "cell_type": "code",
   "execution_count": 24,
   "metadata": {},
   "outputs": [],
   "source": [
    "#fetching the data\n",
    "housing = fetch_openml(name=\"house_prices\", as_frame=True, data_home='data')"
   ]
  },
  {
   "cell_type": "code",
   "execution_count": 25,
   "metadata": {},
   "outputs": [
    {
     "data": {
      "text/html": [
       "<div>\n",
       "<style scoped>\n",
       "    .dataframe tbody tr th:only-of-type {\n",
       "        vertical-align: middle;\n",
       "    }\n",
       "\n",
       "    .dataframe tbody tr th {\n",
       "        vertical-align: top;\n",
       "    }\n",
       "\n",
       "    .dataframe thead th {\n",
       "        text-align: right;\n",
       "    }\n",
       "</style>\n",
       "<table border=\"1\" class=\"dataframe\">\n",
       "  <thead>\n",
       "    <tr style=\"text-align: right;\">\n",
       "      <th></th>\n",
       "      <th>Id</th>\n",
       "      <th>MSSubClass</th>\n",
       "      <th>MSZoning</th>\n",
       "      <th>LotFrontage</th>\n",
       "      <th>LotArea</th>\n",
       "      <th>Street</th>\n",
       "      <th>Alley</th>\n",
       "      <th>LotShape</th>\n",
       "      <th>LandContour</th>\n",
       "      <th>Utilities</th>\n",
       "      <th>...</th>\n",
       "      <th>PoolArea</th>\n",
       "      <th>PoolQC</th>\n",
       "      <th>Fence</th>\n",
       "      <th>MiscFeature</th>\n",
       "      <th>MiscVal</th>\n",
       "      <th>MoSold</th>\n",
       "      <th>YrSold</th>\n",
       "      <th>SaleType</th>\n",
       "      <th>SaleCondition</th>\n",
       "      <th>SalePrice</th>\n",
       "    </tr>\n",
       "  </thead>\n",
       "  <tbody>\n",
       "    <tr>\n",
       "      <th>0</th>\n",
       "      <td>1</td>\n",
       "      <td>60</td>\n",
       "      <td>RL</td>\n",
       "      <td>65.0</td>\n",
       "      <td>8450</td>\n",
       "      <td>Pave</td>\n",
       "      <td>NaN</td>\n",
       "      <td>Reg</td>\n",
       "      <td>Lvl</td>\n",
       "      <td>AllPub</td>\n",
       "      <td>...</td>\n",
       "      <td>0</td>\n",
       "      <td>NaN</td>\n",
       "      <td>NaN</td>\n",
       "      <td>NaN</td>\n",
       "      <td>0</td>\n",
       "      <td>2</td>\n",
       "      <td>2008</td>\n",
       "      <td>WD</td>\n",
       "      <td>Normal</td>\n",
       "      <td>208500</td>\n",
       "    </tr>\n",
       "    <tr>\n",
       "      <th>1</th>\n",
       "      <td>2</td>\n",
       "      <td>20</td>\n",
       "      <td>RL</td>\n",
       "      <td>80.0</td>\n",
       "      <td>9600</td>\n",
       "      <td>Pave</td>\n",
       "      <td>NaN</td>\n",
       "      <td>Reg</td>\n",
       "      <td>Lvl</td>\n",
       "      <td>AllPub</td>\n",
       "      <td>...</td>\n",
       "      <td>0</td>\n",
       "      <td>NaN</td>\n",
       "      <td>NaN</td>\n",
       "      <td>NaN</td>\n",
       "      <td>0</td>\n",
       "      <td>5</td>\n",
       "      <td>2007</td>\n",
       "      <td>WD</td>\n",
       "      <td>Normal</td>\n",
       "      <td>181500</td>\n",
       "    </tr>\n",
       "    <tr>\n",
       "      <th>2</th>\n",
       "      <td>3</td>\n",
       "      <td>60</td>\n",
       "      <td>RL</td>\n",
       "      <td>68.0</td>\n",
       "      <td>11250</td>\n",
       "      <td>Pave</td>\n",
       "      <td>NaN</td>\n",
       "      <td>IR1</td>\n",
       "      <td>Lvl</td>\n",
       "      <td>AllPub</td>\n",
       "      <td>...</td>\n",
       "      <td>0</td>\n",
       "      <td>NaN</td>\n",
       "      <td>NaN</td>\n",
       "      <td>NaN</td>\n",
       "      <td>0</td>\n",
       "      <td>9</td>\n",
       "      <td>2008</td>\n",
       "      <td>WD</td>\n",
       "      <td>Normal</td>\n",
       "      <td>223500</td>\n",
       "    </tr>\n",
       "    <tr>\n",
       "      <th>3</th>\n",
       "      <td>4</td>\n",
       "      <td>70</td>\n",
       "      <td>RL</td>\n",
       "      <td>60.0</td>\n",
       "      <td>9550</td>\n",
       "      <td>Pave</td>\n",
       "      <td>NaN</td>\n",
       "      <td>IR1</td>\n",
       "      <td>Lvl</td>\n",
       "      <td>AllPub</td>\n",
       "      <td>...</td>\n",
       "      <td>0</td>\n",
       "      <td>NaN</td>\n",
       "      <td>NaN</td>\n",
       "      <td>NaN</td>\n",
       "      <td>0</td>\n",
       "      <td>2</td>\n",
       "      <td>2006</td>\n",
       "      <td>WD</td>\n",
       "      <td>Abnorml</td>\n",
       "      <td>140000</td>\n",
       "    </tr>\n",
       "    <tr>\n",
       "      <th>4</th>\n",
       "      <td>5</td>\n",
       "      <td>60</td>\n",
       "      <td>RL</td>\n",
       "      <td>84.0</td>\n",
       "      <td>14260</td>\n",
       "      <td>Pave</td>\n",
       "      <td>NaN</td>\n",
       "      <td>IR1</td>\n",
       "      <td>Lvl</td>\n",
       "      <td>AllPub</td>\n",
       "      <td>...</td>\n",
       "      <td>0</td>\n",
       "      <td>NaN</td>\n",
       "      <td>NaN</td>\n",
       "      <td>NaN</td>\n",
       "      <td>0</td>\n",
       "      <td>12</td>\n",
       "      <td>2008</td>\n",
       "      <td>WD</td>\n",
       "      <td>Normal</td>\n",
       "      <td>250000</td>\n",
       "    </tr>\n",
       "    <tr>\n",
       "      <th>...</th>\n",
       "      <td>...</td>\n",
       "      <td>...</td>\n",
       "      <td>...</td>\n",
       "      <td>...</td>\n",
       "      <td>...</td>\n",
       "      <td>...</td>\n",
       "      <td>...</td>\n",
       "      <td>...</td>\n",
       "      <td>...</td>\n",
       "      <td>...</td>\n",
       "      <td>...</td>\n",
       "      <td>...</td>\n",
       "      <td>...</td>\n",
       "      <td>...</td>\n",
       "      <td>...</td>\n",
       "      <td>...</td>\n",
       "      <td>...</td>\n",
       "      <td>...</td>\n",
       "      <td>...</td>\n",
       "      <td>...</td>\n",
       "      <td>...</td>\n",
       "    </tr>\n",
       "    <tr>\n",
       "      <th>1455</th>\n",
       "      <td>1456</td>\n",
       "      <td>60</td>\n",
       "      <td>RL</td>\n",
       "      <td>62.0</td>\n",
       "      <td>7917</td>\n",
       "      <td>Pave</td>\n",
       "      <td>NaN</td>\n",
       "      <td>Reg</td>\n",
       "      <td>Lvl</td>\n",
       "      <td>AllPub</td>\n",
       "      <td>...</td>\n",
       "      <td>0</td>\n",
       "      <td>NaN</td>\n",
       "      <td>NaN</td>\n",
       "      <td>NaN</td>\n",
       "      <td>0</td>\n",
       "      <td>8</td>\n",
       "      <td>2007</td>\n",
       "      <td>WD</td>\n",
       "      <td>Normal</td>\n",
       "      <td>175000</td>\n",
       "    </tr>\n",
       "    <tr>\n",
       "      <th>1456</th>\n",
       "      <td>1457</td>\n",
       "      <td>20</td>\n",
       "      <td>RL</td>\n",
       "      <td>85.0</td>\n",
       "      <td>13175</td>\n",
       "      <td>Pave</td>\n",
       "      <td>NaN</td>\n",
       "      <td>Reg</td>\n",
       "      <td>Lvl</td>\n",
       "      <td>AllPub</td>\n",
       "      <td>...</td>\n",
       "      <td>0</td>\n",
       "      <td>NaN</td>\n",
       "      <td>MnPrv</td>\n",
       "      <td>NaN</td>\n",
       "      <td>0</td>\n",
       "      <td>2</td>\n",
       "      <td>2010</td>\n",
       "      <td>WD</td>\n",
       "      <td>Normal</td>\n",
       "      <td>210000</td>\n",
       "    </tr>\n",
       "    <tr>\n",
       "      <th>1457</th>\n",
       "      <td>1458</td>\n",
       "      <td>70</td>\n",
       "      <td>RL</td>\n",
       "      <td>66.0</td>\n",
       "      <td>9042</td>\n",
       "      <td>Pave</td>\n",
       "      <td>NaN</td>\n",
       "      <td>Reg</td>\n",
       "      <td>Lvl</td>\n",
       "      <td>AllPub</td>\n",
       "      <td>...</td>\n",
       "      <td>0</td>\n",
       "      <td>NaN</td>\n",
       "      <td>GdPrv</td>\n",
       "      <td>Shed</td>\n",
       "      <td>2500</td>\n",
       "      <td>5</td>\n",
       "      <td>2010</td>\n",
       "      <td>WD</td>\n",
       "      <td>Normal</td>\n",
       "      <td>266500</td>\n",
       "    </tr>\n",
       "    <tr>\n",
       "      <th>1458</th>\n",
       "      <td>1459</td>\n",
       "      <td>20</td>\n",
       "      <td>RL</td>\n",
       "      <td>68.0</td>\n",
       "      <td>9717</td>\n",
       "      <td>Pave</td>\n",
       "      <td>NaN</td>\n",
       "      <td>Reg</td>\n",
       "      <td>Lvl</td>\n",
       "      <td>AllPub</td>\n",
       "      <td>...</td>\n",
       "      <td>0</td>\n",
       "      <td>NaN</td>\n",
       "      <td>NaN</td>\n",
       "      <td>NaN</td>\n",
       "      <td>0</td>\n",
       "      <td>4</td>\n",
       "      <td>2010</td>\n",
       "      <td>WD</td>\n",
       "      <td>Normal</td>\n",
       "      <td>142125</td>\n",
       "    </tr>\n",
       "    <tr>\n",
       "      <th>1459</th>\n",
       "      <td>1460</td>\n",
       "      <td>20</td>\n",
       "      <td>RL</td>\n",
       "      <td>75.0</td>\n",
       "      <td>9937</td>\n",
       "      <td>Pave</td>\n",
       "      <td>NaN</td>\n",
       "      <td>Reg</td>\n",
       "      <td>Lvl</td>\n",
       "      <td>AllPub</td>\n",
       "      <td>...</td>\n",
       "      <td>0</td>\n",
       "      <td>NaN</td>\n",
       "      <td>NaN</td>\n",
       "      <td>NaN</td>\n",
       "      <td>0</td>\n",
       "      <td>6</td>\n",
       "      <td>2008</td>\n",
       "      <td>WD</td>\n",
       "      <td>Normal</td>\n",
       "      <td>147500</td>\n",
       "    </tr>\n",
       "  </tbody>\n",
       "</table>\n",
       "<p>1460 rows × 81 columns</p>\n",
       "</div>"
      ],
      "text/plain": [
       "        Id  MSSubClass MSZoning  LotFrontage  LotArea Street Alley LotShape  \\\n",
       "0        1          60       RL         65.0     8450   Pave   NaN      Reg   \n",
       "1        2          20       RL         80.0     9600   Pave   NaN      Reg   \n",
       "2        3          60       RL         68.0    11250   Pave   NaN      IR1   \n",
       "3        4          70       RL         60.0     9550   Pave   NaN      IR1   \n",
       "4        5          60       RL         84.0    14260   Pave   NaN      IR1   \n",
       "...    ...         ...      ...          ...      ...    ...   ...      ...   \n",
       "1455  1456          60       RL         62.0     7917   Pave   NaN      Reg   \n",
       "1456  1457          20       RL         85.0    13175   Pave   NaN      Reg   \n",
       "1457  1458          70       RL         66.0     9042   Pave   NaN      Reg   \n",
       "1458  1459          20       RL         68.0     9717   Pave   NaN      Reg   \n",
       "1459  1460          20       RL         75.0     9937   Pave   NaN      Reg   \n",
       "\n",
       "     LandContour Utilities  ... PoolArea PoolQC  Fence MiscFeature MiscVal  \\\n",
       "0            Lvl    AllPub  ...        0    NaN    NaN         NaN       0   \n",
       "1            Lvl    AllPub  ...        0    NaN    NaN         NaN       0   \n",
       "2            Lvl    AllPub  ...        0    NaN    NaN         NaN       0   \n",
       "3            Lvl    AllPub  ...        0    NaN    NaN         NaN       0   \n",
       "4            Lvl    AllPub  ...        0    NaN    NaN         NaN       0   \n",
       "...          ...       ...  ...      ...    ...    ...         ...     ...   \n",
       "1455         Lvl    AllPub  ...        0    NaN    NaN         NaN       0   \n",
       "1456         Lvl    AllPub  ...        0    NaN  MnPrv         NaN       0   \n",
       "1457         Lvl    AllPub  ...        0    NaN  GdPrv        Shed    2500   \n",
       "1458         Lvl    AllPub  ...        0    NaN    NaN         NaN       0   \n",
       "1459         Lvl    AllPub  ...        0    NaN    NaN         NaN       0   \n",
       "\n",
       "     MoSold YrSold  SaleType  SaleCondition  SalePrice  \n",
       "0         2   2008        WD         Normal     208500  \n",
       "1         5   2007        WD         Normal     181500  \n",
       "2         9   2008        WD         Normal     223500  \n",
       "3         2   2006        WD        Abnorml     140000  \n",
       "4        12   2008        WD         Normal     250000  \n",
       "...     ...    ...       ...            ...        ...  \n",
       "1455      8   2007        WD         Normal     175000  \n",
       "1456      2   2010        WD         Normal     210000  \n",
       "1457      5   2010        WD         Normal     266500  \n",
       "1458      4   2010        WD         Normal     142125  \n",
       "1459      6   2008        WD         Normal     147500  \n",
       "\n",
       "[1460 rows x 81 columns]"
      ]
     },
     "execution_count": 25,
     "metadata": {},
     "output_type": "execute_result"
    }
   ],
   "source": [
    "#examine the dataframe\n",
    "housing.frame"
   ]
  },
  {
   "cell_type": "code",
   "execution_count": 26,
   "metadata": {},
   "outputs": [],
   "source": [
    "#select numeric data and drop missing values\n",
    "df = housing.frame.select_dtypes(['float', 'int']).dropna(axis = 1)#.select_dtypes(['int', 'float'])"
   ]
  },
  {
   "cell_type": "markdown",
   "metadata": {
    "deletable": false,
    "editable": false,
    "nbgrader": {
     "cell_type": "markdown",
     "checksum": "176baa858671bb0916354209929f6b72",
     "grade": false,
     "grade_id": "cell-8699f9d44a1b0df8",
     "locked": true,
     "schema_version": 3,
     "solution": false
    }
   },
   "source": [
    "[Back to top](#Index:) \n",
    "\n",
    "## Problem 7\n",
    "\n",
    "### Scale the data\n",
    "\n",
    "**2 Points**\n",
    "\n",
    "Scale the `df` data using its mean and standard deviation so that it is ready for SVD.  Assign the scaled data to `df_scaled` below.  "
   ]
  },
  {
   "cell_type": "code",
   "execution_count": 27,
   "metadata": {
    "deletable": false,
    "nbgrader": {
     "cell_type": "code",
     "checksum": "1d2bb9937c4abb0e5af510ccdbf90031",
     "grade": false,
     "grade_id": "cell-e9cbe0e23c25175d",
     "locked": false,
     "schema_version": 3,
     "solution": true
    }
   },
   "outputs": [
    {
     "name": "stdout",
     "output_type": "stream",
     "text": [
      "<class 'pandas.core.frame.DataFrame'>\n"
     ]
    }
   ],
   "source": [
    "### GRADED\n",
    "\n",
    "df_scaled = (df - df.mean()) / df.std()\n",
    "\n",
    "# Answer check\n",
    "print(type(df_scaled))"
   ]
  },
  {
   "cell_type": "code",
   "execution_count": null,
   "metadata": {
    "deletable": false,
    "editable": false,
    "nbgrader": {
     "cell_type": "code",
     "checksum": "321dac133fe0613310c5d0517c015e24",
     "grade": true,
     "grade_id": "cell-e6a2196eb6cfef0c",
     "locked": true,
     "points": 2,
     "schema_version": 3,
     "solution": false
    }
   },
   "outputs": [],
   "source": []
  },
  {
   "cell_type": "markdown",
   "metadata": {
    "deletable": false,
    "editable": false,
    "nbgrader": {
     "cell_type": "markdown",
     "checksum": "ea78c33de61af37b26e09d7fb36e1169",
     "grade": false,
     "grade_id": "cell-f05033ba170dee84",
     "locked": true,
     "schema_version": 3,
     "solution": false
    }
   },
   "source": [
    "[Back to top](#Index:) \n",
    "\n",
    "## Problem 8\n",
    "\n",
    "### Extracting $\\Sigma$\n",
    "\n",
    "**2 Points**\n",
    "\n",
    "Using the scaled data, extract the singular values from the data using the `scipy.linalg` function `svd`.  Assign your results to `U`, `sigma`, and `VT` below. "
   ]
  },
  {
   "cell_type": "code",
   "execution_count": 28,
   "metadata": {
    "deletable": false,
    "nbgrader": {
     "cell_type": "code",
     "checksum": "ce93f8e7740b92f92331bb3434c409e2",
     "grade": false,
     "grade_id": "cell-4a550e838c82b342",
     "locked": false,
     "schema_version": 3,
     "solution": true
    }
   },
   "outputs": [
    {
     "name": "stdout",
     "output_type": "stream",
     "text": [
      "<class 'numpy.ndarray'>\n",
      "(35,)\n"
     ]
    }
   ],
   "source": [
    "### GRADED\n",
    "\n",
    "U, sigma, VT = '', '', ''\n",
    "\n",
    "# Extract the singular values from the data \n",
    "U, sigma, VT = svd(df_scaled.values)\n",
    "\n",
    "# Answer check\n",
    "print(type(sigma))\n",
    "print(sigma.shape)"
   ]
  },
  {
   "cell_type": "code",
   "execution_count": null,
   "metadata": {
    "deletable": false,
    "editable": false,
    "nbgrader": {
     "cell_type": "code",
     "checksum": "447faf77a2ffd9908f19b6c12b171506",
     "grade": true,
     "grade_id": "cell-b54399070a69d89e",
     "locked": true,
     "points": 2,
     "schema_version": 3,
     "solution": false
    }
   },
   "outputs": [],
   "source": []
  },
  {
   "cell_type": "markdown",
   "metadata": {
    "deletable": false,
    "editable": false,
    "nbgrader": {
     "cell_type": "markdown",
     "checksum": "49506b90c92d667cc52f9f58452c83ed",
     "grade": false,
     "grade_id": "cell-7307ef4f285312fe",
     "locked": true,
     "schema_version": 3,
     "solution": false
    }
   },
   "source": [
    "[Back to top](#Index:) \n",
    "\n",
    "## Problem 9\n",
    "\n",
    "### Percent Variance Explained\n",
    "\n",
    "**2 Points**\n",
    "\n",
    "Divide `sigma` by the sum of the singular values to compute the percent variance explained. Assign your result as a percent array to `percent_variance_explained` below.  \n",
    "\n",
    "Note that due to rounding this percent won't sum to exactly 1.  "
   ]
  },
  {
   "cell_type": "code",
   "execution_count": 29,
   "metadata": {
    "deletable": false,
    "nbgrader": {
     "cell_type": "code",
     "checksum": "ad4cd254db46b4b3cd90e28ba2de0312",
     "grade": false,
     "grade_id": "cell-2d0b872e81c0edf1",
     "locked": false,
     "schema_version": 3,
     "solution": true
    }
   },
   "outputs": [
    {
     "name": "stdout",
     "output_type": "stream",
     "text": [
      "(35,)\n",
      "0.9999999999999999\n"
     ]
    }
   ],
   "source": [
    "### GRADED\n",
    "\n",
    "# Calculate the percent variance explained\n",
    "# The variance explained by each singular value is its square.\n",
    "# The total variance is the sum of the squares of all singular values.\n",
    "percent_variance_explained = (sigma**2) / np.sum(sigma**2)\n",
    "\n",
    "# YOUR CODE HERE\n",
    "print(percent_variance_explained.shape)\n",
    "print(percent_variance_explained.sum())"
   ]
  },
  {
   "cell_type": "code",
   "execution_count": null,
   "metadata": {
    "deletable": false,
    "editable": false,
    "nbgrader": {
     "cell_type": "code",
     "checksum": "0571798871248c5f7ea26d8de94b886f",
     "grade": true,
     "grade_id": "cell-a50720db1750902f",
     "locked": true,
     "points": 2,
     "schema_version": 3,
     "solution": false
    }
   },
   "outputs": [],
   "source": []
  },
  {
   "cell_type": "markdown",
   "metadata": {
    "deletable": false,
    "editable": false,
    "nbgrader": {
     "cell_type": "markdown",
     "checksum": "1f2824cba1d73b20d38df2d46f9ec52a",
     "grade": false,
     "grade_id": "cell-05d5d42eca1bbbdc",
     "locked": true,
     "schema_version": 3,
     "solution": false
    }
   },
   "source": [
    "[Back to top](#Index:) \n",
    "\n",
    "## Problem 10\n",
    "\n",
    "### Cumulative Variance Explained\n",
    "\n",
    "**3 Points**\n",
    "\n",
    "Using the solution to problem 10, how many principal components are necessary to retain up to 80% of the explained variance if we consider them in descending order?  Assign your response to `ans11` below as an integer. \n",
    "\n",
    "**HINT**: explore the `np.cumsum` function."
   ]
  },
  {
   "cell_type": "code",
   "execution_count": 30,
   "metadata": {
    "deletable": false,
    "nbgrader": {
     "cell_type": "code",
     "checksum": "ece8d25da0c0ed8b92adfdca4f9c86d0",
     "grade": false,
     "grade_id": "cell-66380020bce09c2a",
     "locked": false,
     "schema_version": 3,
     "solution": true
    }
   },
   "outputs": [
    {
     "name": "stdout",
     "output_type": "stream",
     "text": [
      "<class 'numpy.int64'>\n",
      "17\n"
     ]
    }
   ],
   "source": [
    "### GRADED\n",
    "\n",
    "# Calculate the cumulative sum of the percent variance explained\n",
    "cumulative_variance_explained = np.cumsum(percent_variance_explained)\n",
    "\n",
    "# Find the number of components needed to reach 80% (0.8) of the variance\n",
    "# The `np.argmax` function returns the index of the first occurrence of the maximum value.\n",
    "# By checking where the cumulative sum is greater than 0.8, we can find the index\n",
    "# where the threshold is exceeded.\n",
    "num_components = np.argmax(cumulative_variance_explained >= 0.8) + 1\n",
    "\n",
    "# Assign the result to ans11\n",
    "ans11 = num_components\n",
    "\n",
    "# YOUR CODE HERE\n",
    "print(type(ans11))\n",
    "print(ans11)"
   ]
  },
  {
   "cell_type": "code",
   "execution_count": null,
   "metadata": {
    "deletable": false,
    "editable": false,
    "nbgrader": {
     "cell_type": "code",
     "checksum": "bae97a9cad8e54f0e3e2446f7bb6570b",
     "grade": true,
     "grade_id": "cell-90ab8f0a2258c3c6",
     "locked": true,
     "points": 3,
     "schema_version": 3,
     "solution": false
    }
   },
   "outputs": [],
   "source": []
  },
  {
   "cell_type": "code",
   "execution_count": null,
   "metadata": {},
   "outputs": [],
   "source": []
  },
  {
   "cell_type": "code",
   "execution_count": null,
   "metadata": {},
   "outputs": [],
   "source": []
  },
  {
   "cell_type": "code",
   "execution_count": null,
   "metadata": {},
   "outputs": [],
   "source": []
  },
  {
   "cell_type": "code",
   "execution_count": null,
   "metadata": {},
   "outputs": [],
   "source": []
  },
  {
   "cell_type": "code",
   "execution_count": null,
   "metadata": {},
   "outputs": [],
   "source": []
  },
  {
   "cell_type": "code",
   "execution_count": null,
   "metadata": {},
   "outputs": [],
   "source": []
  }
 ],
 "metadata": {
  "kernelspec": {
   "display_name": "Python 3 (ipykernel)",
   "language": "python",
   "name": "python3"
  },
  "language_info": {
   "codemirror_mode": {
    "name": "ipython",
    "version": 3
   },
   "file_extension": ".py",
   "mimetype": "text/x-python",
   "name": "python",
   "nbconvert_exporter": "python",
   "pygments_lexer": "ipython3",
   "version": "3.12.8"
  }
 },
 "nbformat": 4,
 "nbformat_minor": 4
}
