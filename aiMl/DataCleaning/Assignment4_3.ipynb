{
 "cells": [
  {
   "cell_type": "markdown",
   "metadata": {
    "deletable": false,
    "editable": false,
    "id": "ftL6hwfQ445V",
    "nbgrader": {
     "cell_type": "markdown",
     "checksum": "cd0d41d42b87883ce3083487d8478131",
     "grade": false,
     "grade_id": "cell-d35f168a30809db9",
     "locked": true,
     "schema_version": 3,
     "solution": false
    }
   },
   "source": [
    "### Required Assignment 4.3: Data Cleaning\n",
    "\n",
    "**Expected Time: 120 Minutes**\n",
    "\n",
    "**Total Points: 40**\n",
    "\n",
    "This assignment focuses on making decisions with a somewhat dirty dataset.  From datatype conversion to object removal and cleaning to missing value handling, cleaning data will be a regular activity while working with data in the wild.  The dataset comes from Kaggle [here](https://www.kaggle.com/shansh8/companies-info-wikipedia-2021) and represents information on businesses pulled from [dbpedia](http://dbpedia.org) pertaining to business indicators from a variety of international companies.\n",
    "\n",
    "\n",
    "#### Index:\n",
    "\n",
    "- [Problem 1](#Problem-1)\n",
    "- [Problem 2](#Problem-2)\n",
    "- [Problem 3](#Problem-3)\n",
    "- [Problem 4](#Problem-4)\n",
    "- [Problem 5](#Problem-5)\n",
    "- [Problem 6](#Problem-6)\n",
    "- [Problem 7](#Problem-7)\n",
    "- [Problem 8](#Problem-8)\n",
    "- [Problem 9](#Problem-9)\n",
    "\n",
    "\n"
   ]
  },
  {
   "cell_type": "markdown",
   "metadata": {
    "deletable": false,
    "editable": false,
    "id": "vdAbQOh8445Y",
    "nbgrader": {
     "cell_type": "markdown",
     "checksum": "ca8aa3fe1ba4a6770087c327fbeb62d6",
     "grade": false,
     "grade_id": "cell-8e421dff8fd70bf6",
     "locked": true,
     "schema_version": 3,
     "solution": false
    }
   },
   "source": [
    "### Load and Explore the Data"
   ]
  },
  {
   "cell_type": "code",
   "execution_count": 2,
   "metadata": {
    "deletable": false,
    "editable": false,
    "id": "juT1hNzn445Y",
    "nbgrader": {
     "cell_type": "code",
     "checksum": "54b45456202486a6305393a019cd5865",
     "grade": false,
     "grade_id": "cell-52ebd3b716455a24",
     "locked": true,
     "schema_version": 3,
     "solution": false
    }
   },
   "outputs": [],
   "source": [
    "import pandas as pd\n",
    "import numpy as np\n",
    "import matplotlib.pyplot as plt\n",
    "import seaborn as sns\n",
    "import plotly.express as px"
   ]
  },
  {
   "cell_type": "code",
   "execution_count": 3,
   "metadata": {
    "deletable": false,
    "editable": false,
    "id": "zMNMtwpq445Z",
    "nbgrader": {
     "cell_type": "code",
     "checksum": "f47ad0a47cad07538d9c0e086fe1fd80",
     "grade": false,
     "grade_id": "cell-383a235c8c985da7",
     "locked": true,
     "schema_version": 3,
     "solution": false
    }
   },
   "outputs": [],
   "source": [
    "df = pd.read_csv('data/biz.zip', compression = 'zip')"
   ]
  },
  {
   "cell_type": "code",
   "execution_count": 4,
   "metadata": {
    "deletable": false,
    "editable": false,
    "id": "axBGcumv445Z",
    "nbgrader": {
     "cell_type": "code",
     "checksum": "e01be95ea786487378edc0c4de7744e1",
     "grade": false,
     "grade_id": "cell-742213f8754d3374",
     "locked": true,
     "schema_version": 3,
     "solution": false
    },
    "outputId": "e7efeb47-8ccd-4360-9cf5-a57c86d865e5"
   },
   "outputs": [
    {
     "data": {
      "text/html": [
       "<div>\n",
       "<style scoped>\n",
       "    .dataframe tbody tr th:only-of-type {\n",
       "        vertical-align: middle;\n",
       "    }\n",
       "\n",
       "    .dataframe tbody tr th {\n",
       "        vertical-align: top;\n",
       "    }\n",
       "\n",
       "    .dataframe thead th {\n",
       "        text-align: right;\n",
       "    }\n",
       "</style>\n",
       "<table border=\"1\" class=\"dataframe\">\n",
       "  <thead>\n",
       "    <tr style=\"text-align: right;\">\n",
       "      <th></th>\n",
       "      <th>a</th>\n",
       "      <th>name</th>\n",
       "      <th>type</th>\n",
       "      <th>foundation</th>\n",
       "      <th>location</th>\n",
       "      <th>products</th>\n",
       "      <th>sector</th>\n",
       "      <th>employee</th>\n",
       "      <th>assets</th>\n",
       "      <th>equity</th>\n",
       "      <th>revenue</th>\n",
       "      <th>profit</th>\n",
       "    </tr>\n",
       "  </thead>\n",
       "  <tbody>\n",
       "    <tr>\n",
       "      <th>0</th>\n",
       "      <td>http://dbpedia.org/resource/Deutsche_EuroShop</td>\n",
       "      <td>Deutsche EuroShop AG</td>\n",
       "      <td>http://dbpedia.org/resource/Aktiengesellschaft</td>\n",
       "      <td>1999</td>\n",
       "      <td>http://dbpedia.org/resource/Germany</td>\n",
       "      <td>Investment in shopping centers</td>\n",
       "      <td>http://dbpedia.org/resource/Real_property</td>\n",
       "      <td>4</td>\n",
       "      <td>2.96E+09</td>\n",
       "      <td>1.25E+09</td>\n",
       "      <td>2.24E+08</td>\n",
       "      <td>8.04E+07</td>\n",
       "    </tr>\n",
       "    <tr>\n",
       "      <th>1</th>\n",
       "      <td>http://dbpedia.org/resource/Deutsche_EuroShop</td>\n",
       "      <td>Deutsche EuroShop AG</td>\n",
       "      <td>http://dbpedia.org/resource/Aktiengesellschaft</td>\n",
       "      <td>1999</td>\n",
       "      <td>http://dbpedia.org/resource/Hamburg</td>\n",
       "      <td>Investment in shopping centers</td>\n",
       "      <td>http://dbpedia.org/resource/Real_property</td>\n",
       "      <td>4</td>\n",
       "      <td>2.96E+09</td>\n",
       "      <td>1.25E+09</td>\n",
       "      <td>2.24E+08</td>\n",
       "      <td>8.04E+07</td>\n",
       "    </tr>\n",
       "    <tr>\n",
       "      <th>2</th>\n",
       "      <td>http://dbpedia.org/resource/Industry_of_Machin...</td>\n",
       "      <td>Industry of Machinery and Tractors</td>\n",
       "      <td>http://dbpedia.org/resource/Društvo_sa_ogranič...</td>\n",
       "      <td>8/12/1996</td>\n",
       "      <td>http://dbpedia.org/resource/Belgrade</td>\n",
       "      <td>http://dbpedia.org/resource/Tractors</td>\n",
       "      <td>http://dbpedia.org/resource/Agribusiness</td>\n",
       "      <td>4</td>\n",
       "      <td>4.65E+07</td>\n",
       "      <td>0</td>\n",
       "      <td>30000</td>\n",
       "      <td>-€0.47 million</td>\n",
       "    </tr>\n",
       "    <tr>\n",
       "      <th>3</th>\n",
       "      <td>http://dbpedia.org/resource/Industry_of_Machin...</td>\n",
       "      <td>Industry of Machinery and Tractors</td>\n",
       "      <td>http://dbpedia.org/resource/Društvo_sa_ogranič...</td>\n",
       "      <td>8/12/1996</td>\n",
       "      <td>http://dbpedia.org/resource/Serbia</td>\n",
       "      <td>http://dbpedia.org/resource/Agricultural_machi...</td>\n",
       "      <td>http://dbpedia.org/resource/Agribusiness</td>\n",
       "      <td>4</td>\n",
       "      <td>4.65E+07</td>\n",
       "      <td>0</td>\n",
       "      <td>30000</td>\n",
       "      <td>-€0.47 million</td>\n",
       "    </tr>\n",
       "    <tr>\n",
       "      <th>4</th>\n",
       "      <td>http://dbpedia.org/resource/Industry_of_Machin...</td>\n",
       "      <td>Industry of Machinery and Tractors</td>\n",
       "      <td>http://dbpedia.org/resource/Društvo_sa_ogranič...</td>\n",
       "      <td>8/12/1996</td>\n",
       "      <td>http://dbpedia.org/resource/Belgrade</td>\n",
       "      <td>http://dbpedia.org/resource/Agricultural_machi...</td>\n",
       "      <td>http://dbpedia.org/resource/Agribusiness</td>\n",
       "      <td>4</td>\n",
       "      <td>4.65E+07</td>\n",
       "      <td>0</td>\n",
       "      <td>30000</td>\n",
       "      <td>-€0.47 million</td>\n",
       "    </tr>\n",
       "  </tbody>\n",
       "</table>\n",
       "</div>"
      ],
      "text/plain": [
       "                                                   a  \\\n",
       "0      http://dbpedia.org/resource/Deutsche_EuroShop   \n",
       "1      http://dbpedia.org/resource/Deutsche_EuroShop   \n",
       "2  http://dbpedia.org/resource/Industry_of_Machin...   \n",
       "3  http://dbpedia.org/resource/Industry_of_Machin...   \n",
       "4  http://dbpedia.org/resource/Industry_of_Machin...   \n",
       "\n",
       "                                 name  \\\n",
       "0                Deutsche EuroShop AG   \n",
       "1                Deutsche EuroShop AG   \n",
       "2  Industry of Machinery and Tractors   \n",
       "3  Industry of Machinery and Tractors   \n",
       "4  Industry of Machinery and Tractors   \n",
       "\n",
       "                                                type foundation  \\\n",
       "0     http://dbpedia.org/resource/Aktiengesellschaft       1999   \n",
       "1     http://dbpedia.org/resource/Aktiengesellschaft       1999   \n",
       "2  http://dbpedia.org/resource/Društvo_sa_ogranič...  8/12/1996   \n",
       "3  http://dbpedia.org/resource/Društvo_sa_ogranič...  8/12/1996   \n",
       "4  http://dbpedia.org/resource/Društvo_sa_ogranič...  8/12/1996   \n",
       "\n",
       "                               location  \\\n",
       "0   http://dbpedia.org/resource/Germany   \n",
       "1   http://dbpedia.org/resource/Hamburg   \n",
       "2  http://dbpedia.org/resource/Belgrade   \n",
       "3    http://dbpedia.org/resource/Serbia   \n",
       "4  http://dbpedia.org/resource/Belgrade   \n",
       "\n",
       "                                            products  \\\n",
       "0                     Investment in shopping centers   \n",
       "1                     Investment in shopping centers   \n",
       "2               http://dbpedia.org/resource/Tractors   \n",
       "3  http://dbpedia.org/resource/Agricultural_machi...   \n",
       "4  http://dbpedia.org/resource/Agricultural_machi...   \n",
       "\n",
       "                                      sector  employee    assets    equity  \\\n",
       "0  http://dbpedia.org/resource/Real_property         4  2.96E+09  1.25E+09   \n",
       "1  http://dbpedia.org/resource/Real_property         4  2.96E+09  1.25E+09   \n",
       "2   http://dbpedia.org/resource/Agribusiness         4  4.65E+07         0   \n",
       "3   http://dbpedia.org/resource/Agribusiness         4  4.65E+07         0   \n",
       "4   http://dbpedia.org/resource/Agribusiness         4  4.65E+07         0   \n",
       "\n",
       "    revenue          profit  \n",
       "0  2.24E+08        8.04E+07  \n",
       "1  2.24E+08        8.04E+07  \n",
       "2     30000  -€0.47 million  \n",
       "3     30000  -€0.47 million  \n",
       "4     30000  -€0.47 million  "
      ]
     },
     "execution_count": 4,
     "metadata": {},
     "output_type": "execute_result"
    }
   ],
   "source": [
    "df.head()"
   ]
  },
  {
   "cell_type": "code",
   "execution_count": 5,
   "metadata": {
    "deletable": false,
    "editable": false,
    "id": "fFQfeeKZ445a",
    "nbgrader": {
     "cell_type": "code",
     "checksum": "7e7220725f15ed2a321baeac60175af3",
     "grade": false,
     "grade_id": "cell-09e0d00249bee5f9",
     "locked": true,
     "schema_version": 3,
     "solution": false
    },
    "outputId": "0d5241ff-31df-486c-c874-6b228344da27"
   },
   "outputs": [
    {
     "name": "stdout",
     "output_type": "stream",
     "text": [
      "<class 'pandas.core.frame.DataFrame'>\n",
      "RangeIndex: 10000 entries, 0 to 9999\n",
      "Data columns (total 12 columns):\n",
      " #   Column      Non-Null Count  Dtype \n",
      "---  ------      --------------  ----- \n",
      " 0   a           10000 non-null  object\n",
      " 1   name        9969 non-null   object\n",
      " 2   type        10000 non-null  object\n",
      " 3   foundation  9665 non-null   object\n",
      " 4   location    9936 non-null   object\n",
      " 5   products    9014 non-null   object\n",
      " 6   sector      10000 non-null  object\n",
      " 7   employee    10000 non-null  int64 \n",
      " 8   assets      7103 non-null   object\n",
      " 9   equity      7124 non-null   object\n",
      " 10  revenue     6943 non-null   object\n",
      " 11  profit      7107 non-null   object\n",
      "dtypes: int64(1), object(11)\n",
      "memory usage: 937.6+ KB\n"
     ]
    }
   ],
   "source": [
    "df.info()"
   ]
  },
  {
   "cell_type": "markdown",
   "metadata": {
    "deletable": false,
    "editable": false,
    "id": "6HE8r17q445b",
    "nbgrader": {
     "cell_type": "markdown",
     "checksum": "eb5c253ac5d9d9aad9e5b279f1772484",
     "grade": false,
     "grade_id": "cell-8c48a87f34a7596d",
     "locked": true,
     "schema_version": 3,
     "solution": false
    }
   },
   "source": [
    "[Back to top](#Index:) \n",
    "\n",
    "### Problem 1\n",
    "\n",
    "#### Plot of Missing Data\n",
    "\n",
    "**0 Points**\n",
    "\n",
    "Create a barplot using `matplotlib` with the $x$-axis representing the columns and the $y$-axis representing the count of missing values. Sort these values from least to greatest.  Save your plot in the `images` folder as `missing_plot.png`.  "
   ]
  },
  {
   "cell_type": "code",
   "execution_count": 6,
   "metadata": {
    "deletable": false,
    "id": "Dc1MaCKq445b",
    "nbgrader": {
     "cell_type": "code",
     "checksum": "cd32e3dc02c65eee4ca770b1262abb04",
     "grade": false,
     "grade_id": "cell-4a1c203b45b55c66",
     "locked": false,
     "schema_version": 3,
     "solution": true
    }
   },
   "outputs": [
    {
     "data": {
      "image/png": "[encoded data removed]",
      "text/plain": [
       "<Figure size 1000x600 with 1 Axes>"
      ]
     },
     "metadata": {},
     "output_type": "display_data"
    }
   ],
   "source": [
    "### GRADED\n",
    "\n",
    "# YOUR CODE HERE\n",
    "missing_counts = df.isnull().sum()\n",
    "\n",
    "# Sort the missing value counts from least to greatest\n",
    "missing_counts_sorted = missing_counts.sort_values()\n",
    "\n",
    "# Create bar plot\n",
    "plt.figure(figsize=(10, 6))\n",
    "plt.bar(missing_counts_sorted.index, missing_counts_sorted.values)\n",
    "plt.xticks(rotation=90)\n",
    "plt.xlabel('Columns')\n",
    "plt.ylabel('Count of Missing Values')\n",
    "plt.title('Count of Missing Values per Column')\n",
    "plt.tight_layout()\n",
    "plt.savefig('images/missing_plot.png')\n",
    "plt.show()\n"
   ]
  },
  {
   "cell_type": "code",
   "execution_count": null,
   "metadata": {
    "deletable": false,
    "editable": false,
    "id": "hWRNQ9Tq445c",
    "nbgrader": {
     "cell_type": "code",
     "checksum": "620abc0936f2727d29d8a3bc22219718",
     "grade": true,
     "grade_id": "cell-077b3031b9c34f3f",
     "locked": true,
     "points": 0,
     "schema_version": 3,
     "solution": false
    },
    "outputId": "e1b3a204-362a-4dc0-c566-a7c5b0e98070"
   },
   "outputs": [],
   "source": []
  },
  {
   "cell_type": "markdown",
   "metadata": {
    "deletable": false,
    "editable": false,
    "id": "bIp_Q0wc445c",
    "nbgrader": {
     "cell_type": "markdown",
     "checksum": "876983b93ddb789a8a1a2804a9a39093",
     "grade": false,
     "grade_id": "cell-1d2de21ba2fc0b56",
     "locked": true,
     "schema_version": 3,
     "solution": false
    }
   },
   "source": [
    "[Back to top](#Index:) \n",
    "\n",
    "### Problem 2\n",
    "\n",
    "#### `name` column\n",
    "\n",
    "**5 Points**\n",
    "\n",
    "The column `name` has 31 missing values.\n",
    "\n",
    "Subset the data to examine these observations where `name` is missing. Assign the result as a DataFrame to `ans2` below.  "
   ]
  },
  {
   "cell_type": "code",
   "execution_count": 8,
   "metadata": {
    "deletable": false,
    "id": "wsNRjtqL445d",
    "nbgrader": {
     "cell_type": "code",
     "checksum": "a487ccb461b4f84b2374015584cabb71",
     "grade": false,
     "grade_id": "cell-09db2b6255b26325",
     "locked": false,
     "schema_version": 3,
     "solution": true
    },
    "outputId": "3103cc6e-7e14-4fba-fab2-55655e4bc521"
   },
   "outputs": [
    {
     "name": "stdout",
     "output_type": "stream",
     "text": [
      "<class 'pandas.core.frame.DataFrame'>\n"
     ]
    },
    {
     "data": {
      "text/html": [
       "<div>\n",
       "<style scoped>\n",
       "    .dataframe tbody tr th:only-of-type {\n",
       "        vertical-align: middle;\n",
       "    }\n",
       "\n",
       "    .dataframe tbody tr th {\n",
       "        vertical-align: top;\n",
       "    }\n",
       "\n",
       "    .dataframe thead th {\n",
       "        text-align: right;\n",
       "    }\n",
       "</style>\n",
       "<table border=\"1\" class=\"dataframe\">\n",
       "  <thead>\n",
       "    <tr style=\"text-align: right;\">\n",
       "      <th></th>\n",
       "      <th>a</th>\n",
       "      <th>name</th>\n",
       "      <th>type</th>\n",
       "      <th>foundation</th>\n",
       "      <th>location</th>\n",
       "      <th>products</th>\n",
       "      <th>sector</th>\n",
       "      <th>employee</th>\n",
       "      <th>assets</th>\n",
       "      <th>equity</th>\n",
       "      <th>revenue</th>\n",
       "      <th>profit</th>\n",
       "    </tr>\n",
       "  </thead>\n",
       "  <tbody>\n",
       "    <tr>\n",
       "      <th>3906</th>\n",
       "      <td>http://dbpedia.org/resource/Royal_Canadian_Mint</td>\n",
       "      <td>NaN</td>\n",
       "      <td>http://dbpedia.org/resource/Crown_corporations...</td>\n",
       "      <td>1/2/1908</td>\n",
       "      <td>520</td>\n",
       "      <td>http://dbpedia.org/resource/Coins</td>\n",
       "      <td>http://dbpedia.org/resource/Mint_(facility)</td>\n",
       "      <td>1280</td>\n",
       "      <td>4.44E+08</td>\n",
       "      <td>1.85E+08</td>\n",
       "      <td>$2,641.4million</td>\n",
       "      <td>2.45E+07</td>\n",
       "    </tr>\n",
       "    <tr>\n",
       "      <th>3909</th>\n",
       "      <td>http://dbpedia.org/resource/Royal_Canadian_Mint</td>\n",
       "      <td>NaN</td>\n",
       "      <td>http://dbpedia.org/resource/Crown_corporations...</td>\n",
       "      <td>1/2/1908</td>\n",
       "      <td>Ottawa, Ontario, Canada</td>\n",
       "      <td>http://dbpedia.org/resource/Coins</td>\n",
       "      <td>http://dbpedia.org/resource/Mint_(facility)</td>\n",
       "      <td>1280</td>\n",
       "      <td>4.44E+08</td>\n",
       "      <td>1.85E+08</td>\n",
       "      <td>$2,641.4million</td>\n",
       "      <td>2.45E+07</td>\n",
       "    </tr>\n",
       "    <tr>\n",
       "      <th>4861</th>\n",
       "      <td>http://dbpedia.org/resource/Bulgarian_Postbank</td>\n",
       "      <td>NaN</td>\n",
       "      <td>http://dbpedia.org/resource/Commercial_bank</td>\n",
       "      <td>1991</td>\n",
       "      <td>http://dbpedia.org/resource/Bulgaria</td>\n",
       "      <td>http://dbpedia.org/resource/Asset_management</td>\n",
       "      <td>http://dbpedia.org/resource/Financial_services</td>\n",
       "      <td>3000</td>\n",
       "      <td>6.82E+09</td>\n",
       "      <td>1.15E+09</td>\n",
       "      <td>3.05E+08</td>\n",
       "      <td>1.20E+08</td>\n",
       "    </tr>\n",
       "    <tr>\n",
       "      <th>4862</th>\n",
       "      <td>http://dbpedia.org/resource/Bulgarian_Postbank</td>\n",
       "      <td>NaN</td>\n",
       "      <td>http://dbpedia.org/resource/Commercial_bank</td>\n",
       "      <td>1991</td>\n",
       "      <td>http://dbpedia.org/resource/Bulgaria</td>\n",
       "      <td>http://dbpedia.org/resource/Factoring_(finance)</td>\n",
       "      <td>http://dbpedia.org/resource/Financial_services</td>\n",
       "      <td>3000</td>\n",
       "      <td>6.82E+09</td>\n",
       "      <td>1.15E+09</td>\n",
       "      <td>3.05E+08</td>\n",
       "      <td>1.20E+08</td>\n",
       "    </tr>\n",
       "    <tr>\n",
       "      <th>4863</th>\n",
       "      <td>http://dbpedia.org/resource/Bulgarian_Postbank</td>\n",
       "      <td>NaN</td>\n",
       "      <td>http://dbpedia.org/resource/Commercial_bank</td>\n",
       "      <td>1991</td>\n",
       "      <td>http://dbpedia.org/resource/Bulgaria</td>\n",
       "      <td>http://dbpedia.org/resource/Investment_banking</td>\n",
       "      <td>http://dbpedia.org/resource/Financial_services</td>\n",
       "      <td>3000</td>\n",
       "      <td>6.82E+09</td>\n",
       "      <td>1.15E+09</td>\n",
       "      <td>3.05E+08</td>\n",
       "      <td>1.20E+08</td>\n",
       "    </tr>\n",
       "  </tbody>\n",
       "</table>\n",
       "</div>"
      ],
      "text/plain": [
       "                                                    a name  \\\n",
       "3906  http://dbpedia.org/resource/Royal_Canadian_Mint  NaN   \n",
       "3909  http://dbpedia.org/resource/Royal_Canadian_Mint  NaN   \n",
       "4861   http://dbpedia.org/resource/Bulgarian_Postbank  NaN   \n",
       "4862   http://dbpedia.org/resource/Bulgarian_Postbank  NaN   \n",
       "4863   http://dbpedia.org/resource/Bulgarian_Postbank  NaN   \n",
       "\n",
       "                                                   type foundation  \\\n",
       "3906  http://dbpedia.org/resource/Crown_corporations...   1/2/1908   \n",
       "3909  http://dbpedia.org/resource/Crown_corporations...   1/2/1908   \n",
       "4861        http://dbpedia.org/resource/Commercial_bank       1991   \n",
       "4862        http://dbpedia.org/resource/Commercial_bank       1991   \n",
       "4863        http://dbpedia.org/resource/Commercial_bank       1991   \n",
       "\n",
       "                                  location  \\\n",
       "3906                                   520   \n",
       "3909               Ottawa, Ontario, Canada   \n",
       "4861  http://dbpedia.org/resource/Bulgaria   \n",
       "4862  http://dbpedia.org/resource/Bulgaria   \n",
       "4863  http://dbpedia.org/resource/Bulgaria   \n",
       "\n",
       "                                             products  \\\n",
       "3906                http://dbpedia.org/resource/Coins   \n",
       "3909                http://dbpedia.org/resource/Coins   \n",
       "4861     http://dbpedia.org/resource/Asset_management   \n",
       "4862  http://dbpedia.org/resource/Factoring_(finance)   \n",
       "4863   http://dbpedia.org/resource/Investment_banking   \n",
       "\n",
       "                                              sector  employee    assets  \\\n",
       "3906     http://dbpedia.org/resource/Mint_(facility)      1280  4.44E+08   \n",
       "3909     http://dbpedia.org/resource/Mint_(facility)      1280  4.44E+08   \n",
       "4861  http://dbpedia.org/resource/Financial_services      3000  6.82E+09   \n",
       "4862  http://dbpedia.org/resource/Financial_services      3000  6.82E+09   \n",
       "4863  http://dbpedia.org/resource/Financial_services      3000  6.82E+09   \n",
       "\n",
       "        equity          revenue    profit  \n",
       "3906  1.85E+08  $2,641.4million  2.45E+07  \n",
       "3909  1.85E+08  $2,641.4million  2.45E+07  \n",
       "4861  1.15E+09         3.05E+08  1.20E+08  \n",
       "4862  1.15E+09         3.05E+08  1.20E+08  \n",
       "4863  1.15E+09         3.05E+08  1.20E+08  "
      ]
     },
     "execution_count": 8,
     "metadata": {},
     "output_type": "execute_result"
    }
   ],
   "source": [
    "### GRADED\n",
    "\n",
    "# YOUR CODE HERE\n",
    "ans2 = df[df['name'].isnull()]\n",
    "\n",
    "# Answer check\n",
    "print(type(ans2))\n",
    "ans2.head()"
   ]
  },
  {
   "cell_type": "code",
   "execution_count": null,
   "metadata": {
    "deletable": false,
    "editable": false,
    "id": "WGzFJLLU445d",
    "nbgrader": {
     "cell_type": "code",
     "checksum": "5bf762768f380aa1a19fb6414f043849",
     "grade": true,
     "grade_id": "cell-899711abccb0517a",
     "locked": true,
     "points": 5,
     "schema_version": 3,
     "solution": false
    }
   },
   "outputs": [],
   "source": []
  },
  {
   "cell_type": "markdown",
   "metadata": {
    "deletable": false,
    "editable": false,
    "id": "K6jzBJth445d",
    "nbgrader": {
     "cell_type": "markdown",
     "checksum": "3d738be547b3aa550209ca8cdb9736bb",
     "grade": false,
     "grade_id": "cell-f1cdcdc93362810c",
     "locked": true,
     "schema_version": 3,
     "solution": false
    }
   },
   "source": [
    "[Back to top](#Index:) \n",
    "\n",
    "### Problem 3\n",
    "\n",
    "### Filling Missing Values in `name`\n",
    "\n",
    "**5 Points**\n",
    "\n",
    "Examining the rows missing values in names shows that in the adjacent `a` column, the end of the URL contains what can stand in as a name.  Using the `split` string method on the column `a` to split the URL by `/`.  \n",
    "\n",
    "Assign your split URL's as a series to `ans3` below.\n",
    "\n",
    "This series will be a collection of lists:\n",
    "\n",
    "```python\n",
    "0       [http:, , dbpedia.org, resource, Deutsche_Euro...\n",
    "1       [http:, , dbpedia.org, resource, Deutsche_Euro...\n",
    "2       [http:, , dbpedia.org, resource, Industry_of_M...\n",
    "3       [http:, , dbpedia.org, resource, Industry_of_M...\n",
    "4       [http:, , dbpedia.org, resource, Industry_of_M...\n",
    "         .\n",
    "         .\n",
    "         .\n",
    "```\n",
    "\n"
   ]
  },
  {
   "cell_type": "code",
   "execution_count": 9,
   "metadata": {
    "deletable": false,
    "id": "lRt2Lur3445e",
    "nbgrader": {
     "cell_type": "code",
     "checksum": "63e3902da3bfac8acbf5af9812c1c1ea",
     "grade": false,
     "grade_id": "cell-09278d120062055b",
     "locked": false,
     "schema_version": 3,
     "solution": true
    },
    "outputId": "3f71a06f-a6e3-421f-c67f-1bfe27faaa94"
   },
   "outputs": [
    {
     "name": "stdout",
     "output_type": "stream",
     "text": [
      "<class 'pandas.core.series.Series'>\n"
     ]
    },
    {
     "data": {
      "text/plain": [
       "3906    [http:, , dbpedia.org, resource, Royal_Canadia...\n",
       "3909    [http:, , dbpedia.org, resource, Royal_Canadia...\n",
       "4861    [http:, , dbpedia.org, resource, Bulgarian_Pos...\n",
       "4862    [http:, , dbpedia.org, resource, Bulgarian_Pos...\n",
       "4863    [http:, , dbpedia.org, resource, Bulgarian_Pos...\n",
       "Name: a, dtype: object"
      ]
     },
     "execution_count": 9,
     "metadata": {},
     "output_type": "execute_result"
    }
   ],
   "source": [
    "### GRADED\n",
    "\n",
    "# YOUR CODE HERE\n",
    "ans3 = df.loc[df['name'].isnull(), 'a'].str.split('/')\n",
    "\n",
    "# Answer check\n",
    "print(type(ans3))\n",
    "ans3.head()"
   ]
  },
  {
   "cell_type": "code",
   "execution_count": null,
   "metadata": {
    "deletable": false,
    "editable": false,
    "id": "hLdWVawB445e",
    "nbgrader": {
     "cell_type": "code",
     "checksum": "7dca58a66e28508a40cbcfcbe9bb6779",
     "grade": true,
     "grade_id": "cell-0ea29d3a1db26f84",
     "locked": true,
     "points": 5,
     "schema_version": 3,
     "solution": false
    }
   },
   "outputs": [],
   "source": []
  },
  {
   "cell_type": "markdown",
   "metadata": {
    "deletable": false,
    "editable": false,
    "id": "HylsuIHk445e",
    "nbgrader": {
     "cell_type": "markdown",
     "checksum": "77bcee83c225065c19a5fa4943a2c9da",
     "grade": false,
     "grade_id": "cell-0b5102477964152f",
     "locked": true,
     "schema_version": 3,
     "solution": false
    }
   },
   "source": [
    "[Back to top](#Index:) \n",
    "\n",
    "### Problem 4\n",
    "\n",
    "#### Extracting the names\n",
    "\n",
    "**5 Points**\n",
    "\n",
    "To extract the last element of this list, use the `.apply` method together with an appropriate `lambda` function to create a series based on the last entry of the above list in each row.  Your results should begin with:\n",
    "\n",
    "```python\n",
    "0                        Deutsche_EuroShop\n",
    "1                        Deutsche_EuroShop\n",
    "2       Industry_of_Machinery_and_Tractors\n",
    "3       Industry_of_Machinery_and_Tractors\n",
    "4       Industry_of_Machinery_and_Tractors\n",
    "                       ...                \n",
    "```\n",
    "\n",
    "Save this series to `ans4` below."
   ]
  },
  {
   "cell_type": "code",
   "execution_count": 10,
   "metadata": {
    "deletable": false,
    "id": "Dm38dElx445f",
    "nbgrader": {
     "cell_type": "code",
     "checksum": "a6aff60d77522bdb0500012e937445ad",
     "grade": false,
     "grade_id": "cell-f3bbb8754a7fc537",
     "locked": false,
     "schema_version": 3,
     "solution": true
    },
    "outputId": "2f2c0a11-7f49-4ca5-d789-2d6a4ef2bcb0"
   },
   "outputs": [
    {
     "name": "stdout",
     "output_type": "stream",
     "text": [
      "<class 'pandas.core.series.Series'>\n"
     ]
    },
    {
     "data": {
      "text/plain": [
       "3906    Royal_Canadian_Mint\n",
       "3909    Royal_Canadian_Mint\n",
       "4861     Bulgarian_Postbank\n",
       "4862     Bulgarian_Postbank\n",
       "4863     Bulgarian_Postbank\n",
       "Name: a, dtype: object"
      ]
     },
     "execution_count": 10,
     "metadata": {},
     "output_type": "execute_result"
    }
   ],
   "source": [
    "### GRADED\n",
    "\n",
    "# YOUR CODE HERE\n",
    "ans4 = ans3.apply(lambda x: x[-1])\n",
    "\n",
    "# Answer check\n",
    "print(type(ans4))\n",
    "ans4.head()"
   ]
  },
  {
   "cell_type": "code",
   "execution_count": null,
   "metadata": {
    "deletable": false,
    "editable": false,
    "id": "TPPn2BAm445f",
    "nbgrader": {
     "cell_type": "code",
     "checksum": "dd3b9a9ecf9380be076a708153d2e1a0",
     "grade": true,
     "grade_id": "cell-080bd0de04055ac8",
     "locked": true,
     "points": 5,
     "schema_version": 3,
     "solution": false
    }
   },
   "outputs": [],
   "source": []
  },
  {
   "cell_type": "markdown",
   "metadata": {
    "deletable": false,
    "editable": false,
    "id": "-nYdpsy5445f",
    "nbgrader": {
     "cell_type": "markdown",
     "checksum": "2dac1f2ffc6e051b4a00ec8cfe83249f",
     "grade": false,
     "grade_id": "cell-61e4e375d6bc74a8",
     "locked": true,
     "schema_version": 3,
     "solution": false
    }
   },
   "source": [
    "[Back to top](#Index:) \n",
    "\n",
    "### Problem 5\n",
    "\n",
    "#### Filling the Missing Values in `name` \n",
    "\n",
    "**5 Points**\n",
    "\n",
    "The `.fillna` method can accept a series and fill in the missing values based on the matching indices.  \n",
    "\n",
    "\n",
    "Use the series assigned to `ans4` you created in Problem 4 to fill in the missing values in the `name` column. \n",
    "\n",
    "Overwrite the earlier column and create a DataFrame with no missing values in the `name` column and assign this new DataFrame to `ans5` below."
   ]
  },
  {
   "cell_type": "code",
   "execution_count": 11,
   "metadata": {
    "deletable": false,
    "id": "fKPb31Oj445f",
    "nbgrader": {
     "cell_type": "code",
     "checksum": "7dae38f964f1ab3e95ad000a01f6e173",
     "grade": false,
     "grade_id": "cell-1743f8282f8f8278",
     "locked": false,
     "schema_version": 3,
     "solution": true
    },
    "outputId": "abb95a51-0096-4fc4-8cc9-578fbd82737e"
   },
   "outputs": [
    {
     "name": "stdout",
     "output_type": "stream",
     "text": [
      "<class 'pandas.core.frame.DataFrame'>\n"
     ]
    },
    {
     "data": {
      "text/plain": [
       "0"
      ]
     },
     "execution_count": 11,
     "metadata": {},
     "output_type": "execute_result"
    }
   ],
   "source": [
    "### GRADED\n",
    "\n",
    "df['name'] = df['name'].fillna(ans4)\n",
    "ans5 = df\n",
    "\n",
    "# Answer check\n",
    "print(type(ans5))\n",
    "ans5['name'].isnull().sum()"
   ]
  },
  {
   "cell_type": "code",
   "execution_count": null,
   "metadata": {
    "deletable": false,
    "editable": false,
    "id": "8dTi105b445f",
    "nbgrader": {
     "cell_type": "code",
     "checksum": "e059a5a59d8de1e945d22a056b6f5321",
     "grade": true,
     "grade_id": "cell-a2e3674e241943c1",
     "locked": true,
     "points": 5,
     "schema_version": 3,
     "solution": false
    }
   },
   "outputs": [],
   "source": []
  },
  {
   "cell_type": "markdown",
   "metadata": {
    "deletable": false,
    "editable": false,
    "id": "vgJw9cp2445g",
    "nbgrader": {
     "cell_type": "markdown",
     "checksum": "3a9bc5317df779fcf3c822e71a41826e",
     "grade": false,
     "grade_id": "cell-332360f9bd22c7e0",
     "locked": true,
     "schema_version": 3,
     "solution": false
    }
   },
   "source": [
    "[Back to top](#Index:) \n",
    "\n",
    "### Problem 6\n",
    "\n",
    "#### `location` missing values\n",
    "\n",
    "**5 Points**\n",
    "\n",
    "Note that the `location` column is still having missing data.  The column is supposed to represent the location of the company as a URL in `dbpedia` or, in some cases, simply the name of the city where the company is located.  \n",
    "\n",
    "\n",
    "Use the `isnull()` function to count how many missing values are in the `location` columns. Next, use the `value_counts()` function on the `foundation` column.  Assign these counts as a series to `ans6` below."
   ]
  },
  {
   "cell_type": "code",
   "execution_count": 12,
   "metadata": {
    "deletable": false,
    "id": "zmRZLz1k445g",
    "nbgrader": {
     "cell_type": "code",
     "checksum": "f4e8f8c78cb74aaa3fc47cbd9cfa0795",
     "grade": false,
     "grade_id": "cell-5be56f660973709a",
     "locked": false,
     "schema_version": 3,
     "solution": true
    },
    "outputId": "c2fde5a9-1d85-4b26-f627-a5fc91155829"
   },
   "outputs": [
    {
     "name": "stdout",
     "output_type": "stream",
     "text": [
      "<class 'pandas.core.series.Series'>\n"
     ]
    },
    {
     "data": {
      "text/plain": [
       "foundation\n",
       ", in Storm Lake, Iowa, U.S.    1620\n",
       "6/14/1993                      1620\n",
       "1992                            769\n",
       "1985                            487\n",
       "12/11/1919                      480\n",
       "Name: count, dtype: int64"
      ]
     },
     "execution_count": 12,
     "metadata": {},
     "output_type": "execute_result"
    }
   ],
   "source": [
    "### GRADED\n",
    "\n",
    "missing_location_count = df['location'].isnull().sum()\n",
    "ans6 = df['foundation'].value_counts()\n",
    "\n",
    "# Answer check\n",
    "print(type(ans6))\n",
    "ans6.head()"
   ]
  },
  {
   "cell_type": "code",
   "execution_count": null,
   "metadata": {
    "deletable": false,
    "editable": false,
    "id": "jeMJQQ4a445g",
    "nbgrader": {
     "cell_type": "code",
     "checksum": "62804cfcdd786a3905bb3b2b7688c21d",
     "grade": true,
     "grade_id": "cell-48d908f6309c6d95",
     "locked": true,
     "points": 5,
     "schema_version": 3,
     "solution": false
    }
   },
   "outputs": [],
   "source": []
  },
  {
   "cell_type": "markdown",
   "metadata": {
    "deletable": false,
    "editable": false,
    "id": "NNbSFXyN445g",
    "nbgrader": {
     "cell_type": "markdown",
     "checksum": "ce57609eac1494ad799ac5647a51857f",
     "grade": false,
     "grade_id": "cell-eae29813fda6f479",
     "locked": true,
     "schema_version": 3,
     "solution": false
    }
   },
   "source": [
    "[Back to top](#Index:) \n",
    "\n",
    "### Problem 7\n",
    "\n",
    "#### Replace missing `location` with `foundation`\n",
    "\n",
    "**5 Points**\n",
    "\n",
    "While not perfect, the values in the `foundation` column could serve as a fill-in for the missing values in `location`.  Replace the missing values in `location` with their corresponding value in `foundation`.  Assign the series with the value filled for `location` to `ans7` below.\n",
    "\n",
    "**HINT**: Check if the values of `location` is missing using `[df['location'].isnull()]` and use `.fillna()` to fill it with `foundation`"
   ]
  },
  {
   "cell_type": "code",
   "execution_count": 13,
   "metadata": {
    "deletable": false,
    "id": "0u8LqoR3445g",
    "nbgrader": {
     "cell_type": "code",
     "checksum": "8d834d077da6eef3b36ddf3a183fe37b",
     "grade": false,
     "grade_id": "cell-7720836cb0339eb6",
     "locked": false,
     "schema_version": 3,
     "solution": true
    },
    "outputId": "d718aad2-25fb-4443-942c-3425592d00a3"
   },
   "outputs": [
    {
     "name": "stdout",
     "output_type": "stream",
     "text": [
      "<class 'pandas.core.series.Series'>\n"
     ]
    },
    {
     "data": {
      "text/plain": [
       "0        http://dbpedia.org/resource/Germany\n",
       "1        http://dbpedia.org/resource/Hamburg\n",
       "2       http://dbpedia.org/resource/Belgrade\n",
       "3         http://dbpedia.org/resource/Serbia\n",
       "4       http://dbpedia.org/resource/Belgrade\n",
       "                        ...                 \n",
       "9995                     London, England, UK\n",
       "9996                     London, England, UK\n",
       "9997                     London, England, UK\n",
       "9998                     London, England, UK\n",
       "9999                     London, England, UK\n",
       "Name: location, Length: 10000, dtype: object"
      ]
     },
     "execution_count": 13,
     "metadata": {},
     "output_type": "execute_result"
    }
   ],
   "source": [
    "### GRADED\n",
    "\n",
    "ans7 = df['location'].fillna(df['foundation'])\n",
    "\n",
    "# Answer check\n",
    "print(type(ans7))\n",
    "ans7"
   ]
  },
  {
   "cell_type": "code",
   "execution_count": null,
   "metadata": {
    "deletable": false,
    "editable": false,
    "id": "IgnJsnbV445h",
    "nbgrader": {
     "cell_type": "code",
     "checksum": "8d1a3c286dac50f2f9277fa042dfa80a",
     "grade": true,
     "grade_id": "cell-6a8ca7cb6d51d832",
     "locked": true,
     "points": 5,
     "schema_version": 3,
     "solution": false
    }
   },
   "outputs": [],
   "source": []
  },
  {
   "cell_type": "markdown",
   "metadata": {
    "deletable": false,
    "editable": false,
    "id": "JY7BdOVp445h",
    "nbgrader": {
     "cell_type": "markdown",
     "checksum": "b873ea69381d5bb4b6440617c82a796b",
     "grade": false,
     "grade_id": "cell-5edc9815da833045",
     "locked": true,
     "schema_version": 3,
     "solution": false
    }
   },
   "source": [
    "[Back to top](#Index:) \n",
    "\n",
    "### Problem 8\n",
    "\n",
    "#### Drop rows missing revenue and profit\n",
    "\n",
    "**5 Points**\n",
    "\n",
    "\n",
    "Note that the `revenue` and `profit` columns do not have all their values.  \n",
    "\n",
    "\n",
    "Use the function `dropna()` on `df` to select the non-null entries in the `subset` with columns `revenue` and `profit`.  \n",
    "\n",
    "Assign your answer as a DataFrame to `ans8` below."
   ]
  },
  {
   "cell_type": "code",
   "execution_count": 14,
   "metadata": {
    "deletable": false,
    "id": "wU7H0h3j445h",
    "nbgrader": {
     "cell_type": "code",
     "checksum": "feb87523189113961f3b1effab81dce3",
     "grade": false,
     "grade_id": "cell-9fd2e5625ce24264",
     "locked": false,
     "schema_version": 3,
     "solution": true
    },
    "outputId": "8aa59227-18e6-43ff-8f6a-7cc6500d9a2b"
   },
   "outputs": [
    {
     "name": "stdout",
     "output_type": "stream",
     "text": [
      "<class 'pandas.core.frame.DataFrame'>\n"
     ]
    },
    {
     "data": {
      "text/plain": [
       "(5204, 12)"
      ]
     },
     "execution_count": 14,
     "metadata": {},
     "output_type": "execute_result"
    }
   ],
   "source": [
    "### GRADED\n",
    "\n",
    "ans8 = df.dropna(subset=['revenue', 'profit'])\n",
    "# Answer check\n",
    "print(type(ans8))\n",
    "ans8.shape"
   ]
  },
  {
   "cell_type": "code",
   "execution_count": null,
   "metadata": {
    "deletable": false,
    "editable": false,
    "id": "KGmUJs_x445h",
    "nbgrader": {
     "cell_type": "code",
     "checksum": "9563288ce78ee634fe3e73d3f47fb0fb",
     "grade": true,
     "grade_id": "cell-06e163548d852692",
     "locked": true,
     "points": 5,
     "schema_version": 3,
     "solution": false
    }
   },
   "outputs": [],
   "source": []
  },
  {
   "cell_type": "markdown",
   "metadata": {
    "deletable": false,
    "editable": false,
    "id": "K8DfRlkF445h",
    "nbgrader": {
     "cell_type": "markdown",
     "checksum": "1c454aabaa1dd72686325f673d4c04c8",
     "grade": false,
     "grade_id": "cell-589b90ad4fbb3f56",
     "locked": true,
     "schema_version": 3,
     "solution": false
    }
   },
   "source": [
    "[Back to top](#Index:) \n",
    "\n",
    "### Problem 9\n",
    "\n",
    "#### How many rows were lost?\n",
    "\n",
    "**5 Points**\n",
    "\n",
    "Compare the shape of the original dataset to your solution in 8.  How many rows were lost dropping the data?  Assign your answer as an integer to `ans9` below."
   ]
  },
  {
   "cell_type": "code",
   "execution_count": 15,
   "metadata": {
    "deletable": false,
    "id": "vnFosrR3445h",
    "nbgrader": {
     "cell_type": "code",
     "checksum": "717b4c9c900177740ccf393f66940448",
     "grade": false,
     "grade_id": "cell-9ecfbbbcaf76c9e0",
     "locked": false,
     "schema_version": 3,
     "solution": true
    },
    "outputId": "74ab3609-fdbe-4a98-9925-9da0ef2c2900"
   },
   "outputs": [
    {
     "name": "stdout",
     "output_type": "stream",
     "text": [
      "<class 'int'>\n"
     ]
    },
    {
     "data": {
      "text/plain": [
       "4796"
      ]
     },
     "execution_count": 15,
     "metadata": {},
     "output_type": "execute_result"
    }
   ],
   "source": [
    "### GRADED\n",
    "\n",
    "# YOUR CODE HERE\n",
    "rows_lost = df.shape[0] - ans8.shape[0]\n",
    "ans9 = rows_lost\n",
    "\n",
    "# Answer check\n",
    "print(type(ans9))\n",
    "ans9"
   ]
  },
  {
   "cell_type": "code",
   "execution_count": null,
   "metadata": {
    "deletable": false,
    "editable": false,
    "id": "AxAPFrzs445h",
    "nbgrader": {
     "cell_type": "code",
     "checksum": "547ab822cb9d61746ef5f7245c1dcdef",
     "grade": true,
     "grade_id": "cell-4c4c18750fa353dc",
     "locked": true,
     "points": 5,
     "schema_version": 3,
     "solution": false
    }
   },
   "outputs": [],
   "source": []
  },
  {
   "cell_type": "markdown",
   "metadata": {
    "deletable": false,
    "editable": false,
    "id": "mFEy29jD445i",
    "nbgrader": {
     "cell_type": "markdown",
     "checksum": "66972c2e7371dd87c80a4d29ab6210d6",
     "grade": false,
     "grade_id": "cell-169567641aa26992",
     "locked": true,
     "schema_version": 3,
     "solution": false
    }
   },
   "source": [
    "Note that you've lost almost half of our data dropping missing revenue and profit.  Perhaps a different approach should be considered!  Take some time and examine other missing data in our dataset and some strategies for dealing with it.  If it is possible to keep observations do so."
   ]
  }
 ],
 "metadata": {
  "colab": {
   "name": "coding_activity_4.6.ipynb",
   "provenance": []
  },
  "kernelspec": {
   "display_name": "Python 3 (ipykernel)",
   "language": "python",
   "name": "python3"
  },
  "language_info": {
   "codemirror_mode": {
    "name": "ipython",
    "version": 3
   },
   "file_extension": ".py",
   "mimetype": "text/x-python",
   "name": "python",
   "nbconvert_exporter": "python",
   "pygments_lexer": "ipython3",
   "version": "3.12.8"
  }
 },
 "nbformat": 4,
 "nbformat_minor": 4
}
